{
 "cells": [
  {
   "cell_type": "code",
   "execution_count": 1,
   "metadata": {
    "collapsed": true
   },
   "outputs": [],
   "source": [
    "import numpy as np\n",
    "import pandas as pd\n",
    "from math import ceil\n",
    "import pickle\n",
    "import random\n",
    "from __future__ import division\n",
    "with open('datapath.txt','r') as f:\n",
    "    datapath=f.readlines()[0].rstrip()"
   ]
  },
  {
   "cell_type": "code",
   "execution_count": 2,
   "metadata": {
    "collapsed": false
   },
   "outputs": [],
   "source": [
    "with open('catcount.pkl','r') as f:\n",
    "    (floatstats, intcount) = pickle.load(f)"
   ]
  },
  {
   "cell_type": "code",
   "execution_count": 3,
   "metadata": {
    "collapsed": true
   },
   "outputs": [],
   "source": [
    "total_train=int(floatstats.loc['count','Venta_hoy'])"
   ]
  },
  {
   "cell_type": "code",
   "execution_count": 4,
   "metadata": {
    "collapsed": true
   },
   "outputs": [],
   "source": [
    "traindtypes=pd.read_csv(datapath+'train.csv',nrows=10,parse_dates=False).dtypes.to_dict()"
   ]
  },
  {
   "cell_type": "code",
   "execution_count": 5,
   "metadata": {
    "collapsed": true
   },
   "outputs": [],
   "source": [
    "traindtypes['Semana']=np.uint8"
   ]
  },
  {
   "cell_type": "code",
   "execution_count": 6,
   "metadata": {
    "collapsed": true
   },
   "outputs": [],
   "source": [
    "n_files=400\n",
    "n_chunks=200\n",
    "chunksz=int(ceil(total_train/n_chunks))\n",
    "trainit=pd.read_csv(datapath+'train.csv',chunksize=chunksz,iterator=True,parse_dates=False,dtype=traindtypes)"
   ]
  },
  {
   "cell_type": "code",
   "execution_count": 7,
   "metadata": {
    "collapsed": true
   },
   "outputs": [],
   "source": [
    "splitpath=datapath+'SplitFiles/'"
   ]
  },
  {
   "cell_type": "code",
   "execution_count": 8,
   "metadata": {
    "collapsed": true
   },
   "outputs": [],
   "source": [
    "splitfilename=splitpath+'%i_split_train.csv'"
   ]
  },
  {
   "cell_type": "code",
   "execution_count": 9,
   "metadata": {
    "collapsed": true
   },
   "outputs": [],
   "source": [
    "ichunk=0\n",
    "for chunk in trainit:\n",
    "    mysize=chunk.shape[0]\n",
    "    breaks=(range(0,mysize,int(ceil(mysize/n_files)))+[mysize])\n",
    "    if ichunk==0:\n",
    "        [chunk.iloc[breaks[i]:breaks[i+1]].to_csv(splitfilename % i) for i in xrange(n_files)]\n",
    "    else:\n",
    "        [chunk.iloc[breaks[i]:breaks[i+1]].to_csv(splitfilename % i,header=False,mode='a') for i in xrange(n_files)]\n",
    "    ichunk+=1\n",
    "    "
   ]
  },
  {
   "cell_type": "code",
   "execution_count": null,
   "metadata": {
    "collapsed": true
   },
   "outputs": [],
   "source": []
  }
 ],
 "metadata": {
  "kernelspec": {
   "display_name": "Python 2",
   "language": "python",
   "name": "python2"
  },
  "language_info": {
   "codemirror_mode": {
    "name": "ipython",
    "version": 2
   },
   "file_extension": ".py",
   "mimetype": "text/x-python",
   "name": "python",
   "nbconvert_exporter": "python",
   "pygments_lexer": "ipython2",
   "version": "2.7.6"
  }
 },
 "nbformat": 4,
 "nbformat_minor": 0
}
