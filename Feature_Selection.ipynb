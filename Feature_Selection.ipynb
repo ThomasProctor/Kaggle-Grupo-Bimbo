{
 "cells": [
  {
   "cell_type": "code",
   "execution_count": null,
   "metadata": {
    "collapsed": true
   },
   "outputs": [],
   "source": []
  },
  {
   "cell_type": "code",
   "execution_count": 1,
   "metadata": {
    "collapsed": true
   },
   "outputs": [],
   "source": [
    "import numpy as np\n",
    "import pandas as pd\n",
    "import pickle\n",
    "with open('datapath.txt','r') as f:\n",
    "    datapath=f.readlines()[0].rstrip()"
   ]
  },
  {
   "cell_type": "code",
   "execution_count": 8,
   "metadata": {
    "collapsed": true
   },
   "outputs": [],
   "source": [
    "from sklearn.cross_validation import cross_val_score"
   ]
  },
  {
   "cell_type": "code",
   "execution_count": 9,
   "metadata": {
    "collapsed": true
   },
   "outputs": [],
   "source": [
    "cross_val_score?"
   ]
  },
  {
   "cell_type": "code",
   "execution_count": 2,
   "metadata": {
    "collapsed": true
   },
   "outputs": [],
   "source": [
    "with open('catcount.pkl','r') as f:\n",
    "    floatstats, intcount = pickle.load(f)"
   ]
  },
  {
   "cell_type": "code",
   "execution_count": 3,
   "metadata": {
    "collapsed": true
   },
   "outputs": [],
   "source": [
    "intcount={i.index.name:i for i in intcount}"
   ]
  },
  {
   "cell_type": "code",
   "execution_count": 4,
   "metadata": {
    "collapsed": true
   },
   "outputs": [],
   "source": [
    "total_train=int(floatstats.loc['count','Venta_hoy'])"
   ]
  },
  {
   "cell_type": "code",
   "execution_count": 7,
   "metadata": {
    "collapsed": false
   },
   "outputs": [
    {
     "data": {
      "text/plain": [
       "74180464"
      ]
     },
     "execution_count": 7,
     "metadata": {},
     "output_type": "execute_result"
    }
   ],
   "source": [
    "total_train"
   ]
  },
  {
   "cell_type": "code",
   "execution_count": 8,
   "metadata": {
    "collapsed": true
   },
   "outputs": [],
   "source": [
    "sample_size=1000"
   ]
  },
  {
   "cell_type": "code",
   "execution_count": 5,
   "metadata": {
    "collapsed": true
   },
   "outputs": [],
   "source": [
    "traindtypes=pd.read_csv(datapath+'train.csv',nrows=10,parse_dates=False).dtypes.to_dict()\n",
    "traindtypes['Semana']=np.uint8"
   ]
  },
  {
   "cell_type": "code",
   "execution_count": 6,
   "metadata": {
    "collapsed": true
   },
   "outputs": [],
   "source": [
    "splitpath=datapath+'SplitFiles/'"
   ]
  },
  {
   "cell_type": "code",
   "execution_count": 7,
   "metadata": {
    "collapsed": true
   },
   "outputs": [],
   "source": [
    "columns=['Semana', 'Agencia_ID', 'Canal_ID', 'Ruta_SAK',\n",
    "       'Cliente_ID', 'Producto_ID', 'Demanda_uni_equil']"
   ]
  },
  {
   "cell_type": "code",
   "execution_count": 35,
   "metadata": {
    "collapsed": false
   },
   "outputs": [],
   "source": [
    "train=pd.read_csv(splitpath+'0_split_train.csv',parse_dates=False,dtype=traindtypes,usecols=columns)"
   ]
  },
  {
   "cell_type": "code",
   "execution_count": 14,
   "metadata": {
    "collapsed": true
   },
   "outputs": [],
   "source": [
    "categoricals='Agencia_ID Canal_ID Ruta_SAK Cliente_ID Producto_ID'.split()"
   ]
  },
  {
   "cell_type": "code",
   "execution_count": 13,
   "metadata": {
    "collapsed": false
   },
   "outputs": [
    {
     "name": "stdout",
     "output_type": "stream",
     "text": [
      "\u001b[0m\u001b[01;31mcliente_tabla.csv.zip\u001b[0m  expfile.csv~            \u001b[01;34mSplitFiles\u001b[0m/   \u001b[01;31mtown_state.csv.zip\u001b[0m\r\n",
      "expfile.csv            \u001b[01;31mproducto_tabla.csv.zip\u001b[0m  \u001b[01;31mtest.csv.zip\u001b[0m  \u001b[01;32mtrain.csv\u001b[0m*\r\n"
     ]
    }
   ],
   "source": [
    "%ls $datapath"
   ]
  },
  {
   "cell_type": "code",
   "execution_count": 36,
   "metadata": {
    "collapsed": false
   },
   "outputs": [],
   "source": [
    "Clientes=pd.read_csv(datapath+'cliente_tabla.csv.zip',usecols=['Cliente_ID']).drop_duplicates().values.flatten()"
   ]
  },
  {
   "cell_type": "code",
   "execution_count": 16,
   "metadata": {
    "collapsed": false
   },
   "outputs": [],
   "source": [
    "Productos=pd.read_csv(datapath+'producto_tabla.csv.zip',usecols=[\"Producto_ID\"]).drop_duplicates().values.flatten()"
   ]
  },
  {
   "cell_type": "code",
   "execution_count": 17,
   "metadata": {
    "collapsed": false
   },
   "outputs": [],
   "source": [
    "Agencias=pd.read_csv(datapath+'town_state.csv.zip',usecols=['Agencia_ID']).drop_duplicates().values.flatten()"
   ]
  },
  {
   "cell_type": "code",
   "execution_count": 18,
   "metadata": {
    "collapsed": true
   },
   "outputs": [],
   "source": [
    "categories={'Agencia_ID':Agencias.tolist(),'Canal_ID':intcount[1].index.tolist(),'Ruta_SAK':intcount[2].index.tolist(),'Cliente_ID':Clientes.tolist(),'Producto_ID':Productos.tolist()}"
   ]
  },
  {
   "cell_type": "code",
   "execution_count": 37,
   "metadata": {
    "collapsed": false
   },
   "outputs": [],
   "source": [
    "for i in categories.keys():\n",
    "    train.loc[:,i]=train[i].astype('category',categories=categories[i])"
   ]
  },
  {
   "cell_type": "code",
   "execution_count": 133,
   "metadata": {
    "collapsed": true
   },
   "outputs": [],
   "source": [
    "tstset.intersection??"
   ]
  },
  {
   "cell_type": "code",
   "execution_count": 20,
   "metadata": {
    "collapsed": true
   },
   "outputs": [],
   "source": [
    "with open('Cliente_ID_Stats.pkl','r') as f:\n",
    "    cuenta_Cliente=pickle.load(f)"
   ]
  },
  {
   "cell_type": "code",
   "execution_count": 21,
   "metadata": {
    "collapsed": false
   },
   "outputs": [],
   "source": [
    "tstset=set(cuenta_Cliente.index.tolist()[:10])"
   ]
  },
  {
   "cell_type": "code",
   "execution_count": 21,
   "metadata": {
    "collapsed": true
   },
   "outputs": [],
   "source": [
    "def cutoff(s,counts,cutoff,fillval=0):\n",
    "    cats=list(set(counts.loc[counts<cutoff].index.tolist()).intersection(set(s.cat.categories.tolist())))\n",
    "    s.cat.remove_categories(cats,inplace=True)\n",
    "    if fillval not in s.cat.categories:\n",
    "        s.cat.add_categories(fillval,inplace=True)\n",
    "    s.fillna(fillval,inplace=True)\n",
    "    "
   ]
  },
  {
   "cell_type": "code",
   "execution_count": 22,
   "metadata": {
    "collapsed": true
   },
   "outputs": [],
   "source": [
    "def mean_cutoff(s,counts,fillval=0):\n",
    "    cutoff(s,counts,counts.mean(),fillval=fillval)"
   ]
  },
  {
   "cell_type": "code",
   "execution_count": 74,
   "metadata": {
    "collapsed": false
   },
   "outputs": [
    {
     "name": "stdout",
     "output_type": "stream",
     "text": [
      "catcount.pkl          Feature Stats Generation.ipynb  Stats Presentation.ipynb\r\n",
      "Cliente_ID_Stats.pkl  \u001b[0m\u001b[01;32mrandom_split_data.sh\u001b[0m*           Untitled.ipynb\r\n",
      "Cliente_ID_stats.py   \u001b[01;32mrandom_split_data.sh~\u001b[0m*\r\n",
      "datapath.txt          Split Files.ipynb\r\n"
     ]
    }
   ],
   "source": [
    "%ls"
   ]
  },
  {
   "cell_type": "code",
   "execution_count": 30,
   "metadata": {
    "collapsed": true
   },
   "outputs": [],
   "source": [
    "cutoff_mean='Agencia_ID Ruta_SAK'.split()"
   ]
  },
  {
   "cell_type": "code",
   "execution_count": 38,
   "metadata": {
    "collapsed": false
   },
   "outputs": [
    {
     "data": {
      "text/plain": [
       "[None, None]"
      ]
     },
     "execution_count": 38,
     "metadata": {},
     "output_type": "execute_result"
    }
   ],
   "source": [
    "[mean_cutoff(train[i],intcount[i]) for i in cutoff_mean]"
   ]
  },
  {
   "cell_type": "code",
   "execution_count": 25,
   "metadata": {
    "collapsed": true
   },
   "outputs": [],
   "source": [
    "train.loc[:,'Cliente_ID']=train.Cliente_ID.cat.set_categories(categories['Cliente_ID'])"
   ]
  },
  {
   "cell_type": "code",
   "execution_count": 39,
   "metadata": {
    "collapsed": false,
    "scrolled": true
   },
   "outputs": [],
   "source": [
    "cutoff(train['Cliente_ID'],cuenta_Cliente,600)"
   ]
  },
  {
   "cell_type": "code",
   "execution_count": 41,
   "metadata": {
    "collapsed": false
   },
   "outputs": [],
   "source": [
    "cutoff(train['Producto_ID'],intcount['Producto_ID'],250000)"
   ]
  },
  {
   "cell_type": "code",
   "execution_count": 28,
   "metadata": {
    "collapsed": false
   },
   "outputs": [
    {
     "data": {
      "text/plain": [
       "['Agencia_ID', 'Canal_ID', 'Ruta_SAK', 'Producto_ID', 'Semana']"
      ]
     },
     "execution_count": 28,
     "metadata": {},
     "output_type": "execute_result"
    }
   ],
   "source": [
    "[i.index.name for i in intcount]"
   ]
  },
  {
   "cell_type": "code",
   "execution_count": 29,
   "metadata": {
    "collapsed": false
   },
   "outputs": [],
   "source": [
    "#mean_cutoff(train['Producto_ID'],intcount[-2])"
   ]
  },
  {
   "cell_type": "code",
   "execution_count": 26,
   "metadata": {
    "collapsed": true
   },
   "outputs": [],
   "source": [
    "categoricals='Agencia_ID Canal_ID Ruta_SAK Producto_ID Cliente_ID'.split()"
   ]
  },
  {
   "cell_type": "code",
   "execution_count": 42,
   "metadata": {
    "collapsed": false
   },
   "outputs": [
    {
     "data": {
      "text/plain": [
       "{'Agencia_ID': 434,\n",
       " 'Canal_ID': 9,\n",
       " 'Cliente_ID': 247,\n",
       " 'Producto_ID': 861,\n",
       " 'Ruta_SAK': 747}"
      ]
     },
     "execution_count": 42,
     "metadata": {},
     "output_type": "execute_result"
    }
   ],
   "source": [
    "{i:train[i].cat.categories.shape[0] for i in categoricals}"
   ]
  },
  {
   "cell_type": "code",
   "execution_count": 32,
   "metadata": {
    "collapsed": false
   },
   "outputs": [
    {
     "data": {
      "text/plain": [
       "Semana                  uint8\n",
       "Agencia_ID           category\n",
       "Canal_ID             category\n",
       "Ruta_SAK             category\n",
       "Cliente_ID           category\n",
       "Producto_ID          category\n",
       "Venta_uni_hoy           int64\n",
       "Venta_hoy             float64\n",
       "Dev_uni_proxima         int64\n",
       "Dev_proxima           float64\n",
       "Demanda_uni_equil       int64\n",
       "dtype: object"
      ]
     },
     "execution_count": 32,
     "metadata": {},
     "output_type": "execute_result"
    }
   ],
   "source": [
    "train.head().dtypes"
   ]
  },
  {
   "cell_type": "code",
   "execution_count": 33,
   "metadata": {
    "collapsed": false
   },
   "outputs": [
    {
     "data": {
      "text/plain": [
       "(185599, 11)"
      ]
     },
     "execution_count": 33,
     "metadata": {},
     "output_type": "execute_result"
    }
   ],
   "source": [
    "train.shape"
   ]
  },
  {
   "cell_type": "code",
   "execution_count": null,
   "metadata": {
    "collapsed": true
   },
   "outputs": [],
   "source": [
    "[[10,10],[100,67],[1000,67]]"
   ]
  },
  {
   "cell_type": "code",
   "execution_count": 45,
   "metadata": {
    "collapsed": true
   },
   "outputs": [],
   "source": [
    "from sklearn.linear_model import Ridge\n"
   ]
  },
  {
   "cell_type": "code",
   "execution_count": 152,
   "metadata": {
    "collapsed": true
   },
   "outputs": [
    {
     "name": "stdout",
     "output_type": "stream",
     "text": [
      "CPU times: user 4.87 s, sys: 4.08 ms, total: 4.87 s\n",
      "Wall time: 4.86 s\n"
     ]
    },
    {
     "data": {
      "text/html": [
       "<div>\n",
       "<table border=\"1\" class=\"dataframe\">\n",
       "  <thead>\n",
       "    <tr style=\"text-align: right;\">\n",
       "      <th></th>\n",
       "      <th>Agencia_ID_1111</th>\n",
       "      <th>Agencia_ID_1112</th>\n",
       "      <th>Agencia_ID_1113</th>\n",
       "      <th>Agencia_ID_1116</th>\n",
       "      <th>Agencia_ID_1117</th>\n",
       "      <th>Agencia_ID_1118</th>\n",
       "      <th>Agencia_ID_1119</th>\n",
       "      <th>Agencia_ID_1120</th>\n",
       "      <th>Agencia_ID_1121</th>\n",
       "      <th>Agencia_ID_1122</th>\n",
       "      <th>...</th>\n",
       "      <th>Cliente_ID_4667407</th>\n",
       "      <th>Cliente_ID_4667610</th>\n",
       "      <th>Cliente_ID_4667634</th>\n",
       "      <th>Cliente_ID_4667644</th>\n",
       "      <th>Cliente_ID_4672186</th>\n",
       "      <th>Cliente_ID_4686776</th>\n",
       "      <th>Cliente_ID_5903732</th>\n",
       "      <th>Cliente_ID_6105744</th>\n",
       "      <th>Cliente_ID_9649993</th>\n",
       "      <th>Cliente_ID_0</th>\n",
       "    </tr>\n",
       "  </thead>\n",
       "  <tbody>\n",
       "    <tr>\n",
       "      <th>0</th>\n",
       "      <td>0.0</td>\n",
       "      <td>0.0</td>\n",
       "      <td>0.0</td>\n",
       "      <td>0.0</td>\n",
       "      <td>0.0</td>\n",
       "      <td>0.0</td>\n",
       "      <td>0.0</td>\n",
       "      <td>0.0</td>\n",
       "      <td>0.0</td>\n",
       "      <td>0.0</td>\n",
       "      <td>...</td>\n",
       "      <td>0.0</td>\n",
       "      <td>0.0</td>\n",
       "      <td>0.0</td>\n",
       "      <td>0.0</td>\n",
       "      <td>0.0</td>\n",
       "      <td>0.0</td>\n",
       "      <td>0.0</td>\n",
       "      <td>0.0</td>\n",
       "      <td>0.0</td>\n",
       "      <td>1.0</td>\n",
       "    </tr>\n",
       "    <tr>\n",
       "      <th>1</th>\n",
       "      <td>0.0</td>\n",
       "      <td>0.0</td>\n",
       "      <td>0.0</td>\n",
       "      <td>0.0</td>\n",
       "      <td>0.0</td>\n",
       "      <td>0.0</td>\n",
       "      <td>0.0</td>\n",
       "      <td>0.0</td>\n",
       "      <td>0.0</td>\n",
       "      <td>0.0</td>\n",
       "      <td>...</td>\n",
       "      <td>0.0</td>\n",
       "      <td>0.0</td>\n",
       "      <td>0.0</td>\n",
       "      <td>0.0</td>\n",
       "      <td>0.0</td>\n",
       "      <td>0.0</td>\n",
       "      <td>0.0</td>\n",
       "      <td>0.0</td>\n",
       "      <td>0.0</td>\n",
       "      <td>1.0</td>\n",
       "    </tr>\n",
       "    <tr>\n",
       "      <th>2</th>\n",
       "      <td>0.0</td>\n",
       "      <td>0.0</td>\n",
       "      <td>0.0</td>\n",
       "      <td>0.0</td>\n",
       "      <td>0.0</td>\n",
       "      <td>0.0</td>\n",
       "      <td>0.0</td>\n",
       "      <td>0.0</td>\n",
       "      <td>0.0</td>\n",
       "      <td>0.0</td>\n",
       "      <td>...</td>\n",
       "      <td>0.0</td>\n",
       "      <td>0.0</td>\n",
       "      <td>0.0</td>\n",
       "      <td>0.0</td>\n",
       "      <td>0.0</td>\n",
       "      <td>0.0</td>\n",
       "      <td>0.0</td>\n",
       "      <td>0.0</td>\n",
       "      <td>0.0</td>\n",
       "      <td>1.0</td>\n",
       "    </tr>\n",
       "    <tr>\n",
       "      <th>3</th>\n",
       "      <td>0.0</td>\n",
       "      <td>0.0</td>\n",
       "      <td>0.0</td>\n",
       "      <td>0.0</td>\n",
       "      <td>0.0</td>\n",
       "      <td>0.0</td>\n",
       "      <td>0.0</td>\n",
       "      <td>0.0</td>\n",
       "      <td>0.0</td>\n",
       "      <td>0.0</td>\n",
       "      <td>...</td>\n",
       "      <td>0.0</td>\n",
       "      <td>0.0</td>\n",
       "      <td>0.0</td>\n",
       "      <td>0.0</td>\n",
       "      <td>0.0</td>\n",
       "      <td>0.0</td>\n",
       "      <td>0.0</td>\n",
       "      <td>0.0</td>\n",
       "      <td>0.0</td>\n",
       "      <td>1.0</td>\n",
       "    </tr>\n",
       "    <tr>\n",
       "      <th>4</th>\n",
       "      <td>0.0</td>\n",
       "      <td>0.0</td>\n",
       "      <td>0.0</td>\n",
       "      <td>0.0</td>\n",
       "      <td>0.0</td>\n",
       "      <td>0.0</td>\n",
       "      <td>0.0</td>\n",
       "      <td>0.0</td>\n",
       "      <td>0.0</td>\n",
       "      <td>0.0</td>\n",
       "      <td>...</td>\n",
       "      <td>0.0</td>\n",
       "      <td>0.0</td>\n",
       "      <td>0.0</td>\n",
       "      <td>0.0</td>\n",
       "      <td>0.0</td>\n",
       "      <td>0.0</td>\n",
       "      <td>0.0</td>\n",
       "      <td>0.0</td>\n",
       "      <td>0.0</td>\n",
       "      <td>1.0</td>\n",
       "    </tr>\n",
       "    <tr>\n",
       "      <th>5</th>\n",
       "      <td>0.0</td>\n",
       "      <td>0.0</td>\n",
       "      <td>0.0</td>\n",
       "      <td>0.0</td>\n",
       "      <td>0.0</td>\n",
       "      <td>0.0</td>\n",
       "      <td>0.0</td>\n",
       "      <td>0.0</td>\n",
       "      <td>0.0</td>\n",
       "      <td>0.0</td>\n",
       "      <td>...</td>\n",
       "      <td>0.0</td>\n",
       "      <td>0.0</td>\n",
       "      <td>0.0</td>\n",
       "      <td>0.0</td>\n",
       "      <td>0.0</td>\n",
       "      <td>0.0</td>\n",
       "      <td>0.0</td>\n",
       "      <td>0.0</td>\n",
       "      <td>0.0</td>\n",
       "      <td>1.0</td>\n",
       "    </tr>\n",
       "    <tr>\n",
       "      <th>6</th>\n",
       "      <td>0.0</td>\n",
       "      <td>0.0</td>\n",
       "      <td>0.0</td>\n",
       "      <td>0.0</td>\n",
       "      <td>0.0</td>\n",
       "      <td>0.0</td>\n",
       "      <td>0.0</td>\n",
       "      <td>0.0</td>\n",
       "      <td>0.0</td>\n",
       "      <td>0.0</td>\n",
       "      <td>...</td>\n",
       "      <td>0.0</td>\n",
       "      <td>0.0</td>\n",
       "      <td>0.0</td>\n",
       "      <td>0.0</td>\n",
       "      <td>0.0</td>\n",
       "      <td>0.0</td>\n",
       "      <td>0.0</td>\n",
       "      <td>0.0</td>\n",
       "      <td>0.0</td>\n",
       "      <td>1.0</td>\n",
       "    </tr>\n",
       "    <tr>\n",
       "      <th>7</th>\n",
       "      <td>0.0</td>\n",
       "      <td>0.0</td>\n",
       "      <td>0.0</td>\n",
       "      <td>0.0</td>\n",
       "      <td>0.0</td>\n",
       "      <td>0.0</td>\n",
       "      <td>0.0</td>\n",
       "      <td>0.0</td>\n",
       "      <td>0.0</td>\n",
       "      <td>0.0</td>\n",
       "      <td>...</td>\n",
       "      <td>0.0</td>\n",
       "      <td>0.0</td>\n",
       "      <td>0.0</td>\n",
       "      <td>0.0</td>\n",
       "      <td>0.0</td>\n",
       "      <td>0.0</td>\n",
       "      <td>0.0</td>\n",
       "      <td>0.0</td>\n",
       "      <td>0.0</td>\n",
       "      <td>1.0</td>\n",
       "    </tr>\n",
       "    <tr>\n",
       "      <th>8</th>\n",
       "      <td>0.0</td>\n",
       "      <td>0.0</td>\n",
       "      <td>0.0</td>\n",
       "      <td>0.0</td>\n",
       "      <td>0.0</td>\n",
       "      <td>0.0</td>\n",
       "      <td>0.0</td>\n",
       "      <td>0.0</td>\n",
       "      <td>0.0</td>\n",
       "      <td>0.0</td>\n",
       "      <td>...</td>\n",
       "      <td>0.0</td>\n",
       "      <td>0.0</td>\n",
       "      <td>0.0</td>\n",
       "      <td>0.0</td>\n",
       "      <td>0.0</td>\n",
       "      <td>0.0</td>\n",
       "      <td>0.0</td>\n",
       "      <td>0.0</td>\n",
       "      <td>0.0</td>\n",
       "      <td>1.0</td>\n",
       "    </tr>\n",
       "    <tr>\n",
       "      <th>9</th>\n",
       "      <td>0.0</td>\n",
       "      <td>0.0</td>\n",
       "      <td>0.0</td>\n",
       "      <td>0.0</td>\n",
       "      <td>0.0</td>\n",
       "      <td>0.0</td>\n",
       "      <td>0.0</td>\n",
       "      <td>0.0</td>\n",
       "      <td>0.0</td>\n",
       "      <td>0.0</td>\n",
       "      <td>...</td>\n",
       "      <td>0.0</td>\n",
       "      <td>0.0</td>\n",
       "      <td>0.0</td>\n",
       "      <td>0.0</td>\n",
       "      <td>0.0</td>\n",
       "      <td>0.0</td>\n",
       "      <td>0.0</td>\n",
       "      <td>0.0</td>\n",
       "      <td>0.0</td>\n",
       "      <td>1.0</td>\n",
       "    </tr>\n",
       "    <tr>\n",
       "      <th>10</th>\n",
       "      <td>0.0</td>\n",
       "      <td>0.0</td>\n",
       "      <td>0.0</td>\n",
       "      <td>0.0</td>\n",
       "      <td>0.0</td>\n",
       "      <td>0.0</td>\n",
       "      <td>0.0</td>\n",
       "      <td>0.0</td>\n",
       "      <td>0.0</td>\n",
       "      <td>0.0</td>\n",
       "      <td>...</td>\n",
       "      <td>0.0</td>\n",
       "      <td>0.0</td>\n",
       "      <td>0.0</td>\n",
       "      <td>0.0</td>\n",
       "      <td>0.0</td>\n",
       "      <td>0.0</td>\n",
       "      <td>0.0</td>\n",
       "      <td>0.0</td>\n",
       "      <td>0.0</td>\n",
       "      <td>1.0</td>\n",
       "    </tr>\n",
       "    <tr>\n",
       "      <th>11</th>\n",
       "      <td>0.0</td>\n",
       "      <td>0.0</td>\n",
       "      <td>0.0</td>\n",
       "      <td>0.0</td>\n",
       "      <td>0.0</td>\n",
       "      <td>0.0</td>\n",
       "      <td>0.0</td>\n",
       "      <td>0.0</td>\n",
       "      <td>0.0</td>\n",
       "      <td>0.0</td>\n",
       "      <td>...</td>\n",
       "      <td>0.0</td>\n",
       "      <td>0.0</td>\n",
       "      <td>0.0</td>\n",
       "      <td>0.0</td>\n",
       "      <td>0.0</td>\n",
       "      <td>0.0</td>\n",
       "      <td>0.0</td>\n",
       "      <td>0.0</td>\n",
       "      <td>0.0</td>\n",
       "      <td>1.0</td>\n",
       "    </tr>\n",
       "    <tr>\n",
       "      <th>12</th>\n",
       "      <td>0.0</td>\n",
       "      <td>0.0</td>\n",
       "      <td>0.0</td>\n",
       "      <td>0.0</td>\n",
       "      <td>0.0</td>\n",
       "      <td>0.0</td>\n",
       "      <td>0.0</td>\n",
       "      <td>0.0</td>\n",
       "      <td>0.0</td>\n",
       "      <td>0.0</td>\n",
       "      <td>...</td>\n",
       "      <td>0.0</td>\n",
       "      <td>0.0</td>\n",
       "      <td>0.0</td>\n",
       "      <td>0.0</td>\n",
       "      <td>0.0</td>\n",
       "      <td>0.0</td>\n",
       "      <td>0.0</td>\n",
       "      <td>0.0</td>\n",
       "      <td>0.0</td>\n",
       "      <td>1.0</td>\n",
       "    </tr>\n",
       "    <tr>\n",
       "      <th>13</th>\n",
       "      <td>0.0</td>\n",
       "      <td>0.0</td>\n",
       "      <td>0.0</td>\n",
       "      <td>0.0</td>\n",
       "      <td>0.0</td>\n",
       "      <td>0.0</td>\n",
       "      <td>0.0</td>\n",
       "      <td>0.0</td>\n",
       "      <td>0.0</td>\n",
       "      <td>0.0</td>\n",
       "      <td>...</td>\n",
       "      <td>0.0</td>\n",
       "      <td>0.0</td>\n",
       "      <td>0.0</td>\n",
       "      <td>0.0</td>\n",
       "      <td>0.0</td>\n",
       "      <td>0.0</td>\n",
       "      <td>0.0</td>\n",
       "      <td>0.0</td>\n",
       "      <td>0.0</td>\n",
       "      <td>1.0</td>\n",
       "    </tr>\n",
       "    <tr>\n",
       "      <th>14</th>\n",
       "      <td>0.0</td>\n",
       "      <td>0.0</td>\n",
       "      <td>0.0</td>\n",
       "      <td>0.0</td>\n",
       "      <td>0.0</td>\n",
       "      <td>0.0</td>\n",
       "      <td>0.0</td>\n",
       "      <td>0.0</td>\n",
       "      <td>0.0</td>\n",
       "      <td>0.0</td>\n",
       "      <td>...</td>\n",
       "      <td>0.0</td>\n",
       "      <td>0.0</td>\n",
       "      <td>0.0</td>\n",
       "      <td>0.0</td>\n",
       "      <td>0.0</td>\n",
       "      <td>0.0</td>\n",
       "      <td>0.0</td>\n",
       "      <td>0.0</td>\n",
       "      <td>0.0</td>\n",
       "      <td>1.0</td>\n",
       "    </tr>\n",
       "    <tr>\n",
       "      <th>15</th>\n",
       "      <td>0.0</td>\n",
       "      <td>0.0</td>\n",
       "      <td>0.0</td>\n",
       "      <td>0.0</td>\n",
       "      <td>0.0</td>\n",
       "      <td>0.0</td>\n",
       "      <td>0.0</td>\n",
       "      <td>0.0</td>\n",
       "      <td>0.0</td>\n",
       "      <td>0.0</td>\n",
       "      <td>...</td>\n",
       "      <td>0.0</td>\n",
       "      <td>0.0</td>\n",
       "      <td>0.0</td>\n",
       "      <td>0.0</td>\n",
       "      <td>0.0</td>\n",
       "      <td>0.0</td>\n",
       "      <td>0.0</td>\n",
       "      <td>0.0</td>\n",
       "      <td>0.0</td>\n",
       "      <td>1.0</td>\n",
       "    </tr>\n",
       "    <tr>\n",
       "      <th>16</th>\n",
       "      <td>0.0</td>\n",
       "      <td>0.0</td>\n",
       "      <td>0.0</td>\n",
       "      <td>0.0</td>\n",
       "      <td>0.0</td>\n",
       "      <td>0.0</td>\n",
       "      <td>0.0</td>\n",
       "      <td>0.0</td>\n",
       "      <td>0.0</td>\n",
       "      <td>0.0</td>\n",
       "      <td>...</td>\n",
       "      <td>0.0</td>\n",
       "      <td>0.0</td>\n",
       "      <td>0.0</td>\n",
       "      <td>0.0</td>\n",
       "      <td>0.0</td>\n",
       "      <td>0.0</td>\n",
       "      <td>0.0</td>\n",
       "      <td>0.0</td>\n",
       "      <td>0.0</td>\n",
       "      <td>1.0</td>\n",
       "    </tr>\n",
       "    <tr>\n",
       "      <th>17</th>\n",
       "      <td>0.0</td>\n",
       "      <td>0.0</td>\n",
       "      <td>0.0</td>\n",
       "      <td>0.0</td>\n",
       "      <td>0.0</td>\n",
       "      <td>0.0</td>\n",
       "      <td>0.0</td>\n",
       "      <td>0.0</td>\n",
       "      <td>0.0</td>\n",
       "      <td>0.0</td>\n",
       "      <td>...</td>\n",
       "      <td>0.0</td>\n",
       "      <td>0.0</td>\n",
       "      <td>0.0</td>\n",
       "      <td>0.0</td>\n",
       "      <td>0.0</td>\n",
       "      <td>0.0</td>\n",
       "      <td>0.0</td>\n",
       "      <td>0.0</td>\n",
       "      <td>0.0</td>\n",
       "      <td>1.0</td>\n",
       "    </tr>\n",
       "    <tr>\n",
       "      <th>18</th>\n",
       "      <td>0.0</td>\n",
       "      <td>0.0</td>\n",
       "      <td>0.0</td>\n",
       "      <td>0.0</td>\n",
       "      <td>0.0</td>\n",
       "      <td>0.0</td>\n",
       "      <td>0.0</td>\n",
       "      <td>0.0</td>\n",
       "      <td>0.0</td>\n",
       "      <td>0.0</td>\n",
       "      <td>...</td>\n",
       "      <td>0.0</td>\n",
       "      <td>0.0</td>\n",
       "      <td>0.0</td>\n",
       "      <td>0.0</td>\n",
       "      <td>0.0</td>\n",
       "      <td>0.0</td>\n",
       "      <td>0.0</td>\n",
       "      <td>0.0</td>\n",
       "      <td>0.0</td>\n",
       "      <td>1.0</td>\n",
       "    </tr>\n",
       "    <tr>\n",
       "      <th>19</th>\n",
       "      <td>0.0</td>\n",
       "      <td>0.0</td>\n",
       "      <td>0.0</td>\n",
       "      <td>0.0</td>\n",
       "      <td>0.0</td>\n",
       "      <td>0.0</td>\n",
       "      <td>0.0</td>\n",
       "      <td>0.0</td>\n",
       "      <td>0.0</td>\n",
       "      <td>0.0</td>\n",
       "      <td>...</td>\n",
       "      <td>0.0</td>\n",
       "      <td>0.0</td>\n",
       "      <td>0.0</td>\n",
       "      <td>0.0</td>\n",
       "      <td>0.0</td>\n",
       "      <td>0.0</td>\n",
       "      <td>0.0</td>\n",
       "      <td>0.0</td>\n",
       "      <td>0.0</td>\n",
       "      <td>1.0</td>\n",
       "    </tr>\n",
       "    <tr>\n",
       "      <th>20</th>\n",
       "      <td>0.0</td>\n",
       "      <td>0.0</td>\n",
       "      <td>0.0</td>\n",
       "      <td>0.0</td>\n",
       "      <td>0.0</td>\n",
       "      <td>0.0</td>\n",
       "      <td>0.0</td>\n",
       "      <td>0.0</td>\n",
       "      <td>0.0</td>\n",
       "      <td>0.0</td>\n",
       "      <td>...</td>\n",
       "      <td>0.0</td>\n",
       "      <td>0.0</td>\n",
       "      <td>0.0</td>\n",
       "      <td>0.0</td>\n",
       "      <td>0.0</td>\n",
       "      <td>0.0</td>\n",
       "      <td>0.0</td>\n",
       "      <td>0.0</td>\n",
       "      <td>0.0</td>\n",
       "      <td>1.0</td>\n",
       "    </tr>\n",
       "    <tr>\n",
       "      <th>21</th>\n",
       "      <td>0.0</td>\n",
       "      <td>0.0</td>\n",
       "      <td>0.0</td>\n",
       "      <td>0.0</td>\n",
       "      <td>0.0</td>\n",
       "      <td>0.0</td>\n",
       "      <td>0.0</td>\n",
       "      <td>0.0</td>\n",
       "      <td>0.0</td>\n",
       "      <td>0.0</td>\n",
       "      <td>...</td>\n",
       "      <td>0.0</td>\n",
       "      <td>0.0</td>\n",
       "      <td>0.0</td>\n",
       "      <td>0.0</td>\n",
       "      <td>0.0</td>\n",
       "      <td>0.0</td>\n",
       "      <td>0.0</td>\n",
       "      <td>0.0</td>\n",
       "      <td>0.0</td>\n",
       "      <td>1.0</td>\n",
       "    </tr>\n",
       "    <tr>\n",
       "      <th>22</th>\n",
       "      <td>0.0</td>\n",
       "      <td>0.0</td>\n",
       "      <td>0.0</td>\n",
       "      <td>0.0</td>\n",
       "      <td>0.0</td>\n",
       "      <td>0.0</td>\n",
       "      <td>0.0</td>\n",
       "      <td>0.0</td>\n",
       "      <td>0.0</td>\n",
       "      <td>0.0</td>\n",
       "      <td>...</td>\n",
       "      <td>0.0</td>\n",
       "      <td>0.0</td>\n",
       "      <td>0.0</td>\n",
       "      <td>0.0</td>\n",
       "      <td>0.0</td>\n",
       "      <td>0.0</td>\n",
       "      <td>0.0</td>\n",
       "      <td>0.0</td>\n",
       "      <td>0.0</td>\n",
       "      <td>1.0</td>\n",
       "    </tr>\n",
       "    <tr>\n",
       "      <th>23</th>\n",
       "      <td>0.0</td>\n",
       "      <td>0.0</td>\n",
       "      <td>0.0</td>\n",
       "      <td>0.0</td>\n",
       "      <td>0.0</td>\n",
       "      <td>0.0</td>\n",
       "      <td>0.0</td>\n",
       "      <td>0.0</td>\n",
       "      <td>0.0</td>\n",
       "      <td>0.0</td>\n",
       "      <td>...</td>\n",
       "      <td>0.0</td>\n",
       "      <td>0.0</td>\n",
       "      <td>0.0</td>\n",
       "      <td>0.0</td>\n",
       "      <td>0.0</td>\n",
       "      <td>0.0</td>\n",
       "      <td>0.0</td>\n",
       "      <td>0.0</td>\n",
       "      <td>0.0</td>\n",
       "      <td>1.0</td>\n",
       "    </tr>\n",
       "    <tr>\n",
       "      <th>24</th>\n",
       "      <td>0.0</td>\n",
       "      <td>0.0</td>\n",
       "      <td>0.0</td>\n",
       "      <td>0.0</td>\n",
       "      <td>0.0</td>\n",
       "      <td>0.0</td>\n",
       "      <td>0.0</td>\n",
       "      <td>0.0</td>\n",
       "      <td>0.0</td>\n",
       "      <td>0.0</td>\n",
       "      <td>...</td>\n",
       "      <td>0.0</td>\n",
       "      <td>0.0</td>\n",
       "      <td>0.0</td>\n",
       "      <td>0.0</td>\n",
       "      <td>0.0</td>\n",
       "      <td>0.0</td>\n",
       "      <td>0.0</td>\n",
       "      <td>0.0</td>\n",
       "      <td>0.0</td>\n",
       "      <td>1.0</td>\n",
       "    </tr>\n",
       "    <tr>\n",
       "      <th>25</th>\n",
       "      <td>0.0</td>\n",
       "      <td>0.0</td>\n",
       "      <td>0.0</td>\n",
       "      <td>0.0</td>\n",
       "      <td>0.0</td>\n",
       "      <td>0.0</td>\n",
       "      <td>0.0</td>\n",
       "      <td>0.0</td>\n",
       "      <td>0.0</td>\n",
       "      <td>0.0</td>\n",
       "      <td>...</td>\n",
       "      <td>0.0</td>\n",
       "      <td>0.0</td>\n",
       "      <td>0.0</td>\n",
       "      <td>0.0</td>\n",
       "      <td>0.0</td>\n",
       "      <td>0.0</td>\n",
       "      <td>0.0</td>\n",
       "      <td>0.0</td>\n",
       "      <td>0.0</td>\n",
       "      <td>1.0</td>\n",
       "    </tr>\n",
       "    <tr>\n",
       "      <th>26</th>\n",
       "      <td>0.0</td>\n",
       "      <td>0.0</td>\n",
       "      <td>0.0</td>\n",
       "      <td>0.0</td>\n",
       "      <td>0.0</td>\n",
       "      <td>0.0</td>\n",
       "      <td>0.0</td>\n",
       "      <td>0.0</td>\n",
       "      <td>0.0</td>\n",
       "      <td>0.0</td>\n",
       "      <td>...</td>\n",
       "      <td>0.0</td>\n",
       "      <td>0.0</td>\n",
       "      <td>0.0</td>\n",
       "      <td>0.0</td>\n",
       "      <td>0.0</td>\n",
       "      <td>0.0</td>\n",
       "      <td>0.0</td>\n",
       "      <td>0.0</td>\n",
       "      <td>0.0</td>\n",
       "      <td>1.0</td>\n",
       "    </tr>\n",
       "    <tr>\n",
       "      <th>27</th>\n",
       "      <td>0.0</td>\n",
       "      <td>0.0</td>\n",
       "      <td>0.0</td>\n",
       "      <td>0.0</td>\n",
       "      <td>0.0</td>\n",
       "      <td>0.0</td>\n",
       "      <td>0.0</td>\n",
       "      <td>0.0</td>\n",
       "      <td>0.0</td>\n",
       "      <td>0.0</td>\n",
       "      <td>...</td>\n",
       "      <td>0.0</td>\n",
       "      <td>0.0</td>\n",
       "      <td>0.0</td>\n",
       "      <td>0.0</td>\n",
       "      <td>0.0</td>\n",
       "      <td>0.0</td>\n",
       "      <td>0.0</td>\n",
       "      <td>0.0</td>\n",
       "      <td>0.0</td>\n",
       "      <td>1.0</td>\n",
       "    </tr>\n",
       "    <tr>\n",
       "      <th>28</th>\n",
       "      <td>0.0</td>\n",
       "      <td>0.0</td>\n",
       "      <td>0.0</td>\n",
       "      <td>0.0</td>\n",
       "      <td>0.0</td>\n",
       "      <td>0.0</td>\n",
       "      <td>0.0</td>\n",
       "      <td>0.0</td>\n",
       "      <td>0.0</td>\n",
       "      <td>0.0</td>\n",
       "      <td>...</td>\n",
       "      <td>0.0</td>\n",
       "      <td>0.0</td>\n",
       "      <td>0.0</td>\n",
       "      <td>0.0</td>\n",
       "      <td>0.0</td>\n",
       "      <td>0.0</td>\n",
       "      <td>0.0</td>\n",
       "      <td>0.0</td>\n",
       "      <td>0.0</td>\n",
       "      <td>1.0</td>\n",
       "    </tr>\n",
       "    <tr>\n",
       "      <th>29</th>\n",
       "      <td>0.0</td>\n",
       "      <td>0.0</td>\n",
       "      <td>0.0</td>\n",
       "      <td>0.0</td>\n",
       "      <td>0.0</td>\n",
       "      <td>0.0</td>\n",
       "      <td>0.0</td>\n",
       "      <td>0.0</td>\n",
       "      <td>0.0</td>\n",
       "      <td>0.0</td>\n",
       "      <td>...</td>\n",
       "      <td>0.0</td>\n",
       "      <td>0.0</td>\n",
       "      <td>0.0</td>\n",
       "      <td>0.0</td>\n",
       "      <td>0.0</td>\n",
       "      <td>0.0</td>\n",
       "      <td>0.0</td>\n",
       "      <td>0.0</td>\n",
       "      <td>0.0</td>\n",
       "      <td>1.0</td>\n",
       "    </tr>\n",
       "    <tr>\n",
       "      <th>...</th>\n",
       "      <td>...</td>\n",
       "      <td>...</td>\n",
       "      <td>...</td>\n",
       "      <td>...</td>\n",
       "      <td>...</td>\n",
       "      <td>...</td>\n",
       "      <td>...</td>\n",
       "      <td>...</td>\n",
       "      <td>...</td>\n",
       "      <td>...</td>\n",
       "      <td>...</td>\n",
       "      <td>...</td>\n",
       "      <td>...</td>\n",
       "      <td>...</td>\n",
       "      <td>...</td>\n",
       "      <td>...</td>\n",
       "      <td>...</td>\n",
       "      <td>...</td>\n",
       "      <td>...</td>\n",
       "      <td>...</td>\n",
       "      <td>...</td>\n",
       "    </tr>\n",
       "    <tr>\n",
       "      <th>1970</th>\n",
       "      <td>0.0</td>\n",
       "      <td>0.0</td>\n",
       "      <td>0.0</td>\n",
       "      <td>0.0</td>\n",
       "      <td>0.0</td>\n",
       "      <td>0.0</td>\n",
       "      <td>0.0</td>\n",
       "      <td>0.0</td>\n",
       "      <td>0.0</td>\n",
       "      <td>0.0</td>\n",
       "      <td>...</td>\n",
       "      <td>0.0</td>\n",
       "      <td>0.0</td>\n",
       "      <td>0.0</td>\n",
       "      <td>0.0</td>\n",
       "      <td>0.0</td>\n",
       "      <td>0.0</td>\n",
       "      <td>0.0</td>\n",
       "      <td>0.0</td>\n",
       "      <td>0.0</td>\n",
       "      <td>1.0</td>\n",
       "    </tr>\n",
       "    <tr>\n",
       "      <th>1971</th>\n",
       "      <td>0.0</td>\n",
       "      <td>0.0</td>\n",
       "      <td>0.0</td>\n",
       "      <td>0.0</td>\n",
       "      <td>0.0</td>\n",
       "      <td>0.0</td>\n",
       "      <td>0.0</td>\n",
       "      <td>0.0</td>\n",
       "      <td>0.0</td>\n",
       "      <td>0.0</td>\n",
       "      <td>...</td>\n",
       "      <td>0.0</td>\n",
       "      <td>0.0</td>\n",
       "      <td>0.0</td>\n",
       "      <td>0.0</td>\n",
       "      <td>0.0</td>\n",
       "      <td>0.0</td>\n",
       "      <td>0.0</td>\n",
       "      <td>0.0</td>\n",
       "      <td>0.0</td>\n",
       "      <td>1.0</td>\n",
       "    </tr>\n",
       "    <tr>\n",
       "      <th>1972</th>\n",
       "      <td>0.0</td>\n",
       "      <td>0.0</td>\n",
       "      <td>0.0</td>\n",
       "      <td>0.0</td>\n",
       "      <td>0.0</td>\n",
       "      <td>0.0</td>\n",
       "      <td>0.0</td>\n",
       "      <td>0.0</td>\n",
       "      <td>0.0</td>\n",
       "      <td>0.0</td>\n",
       "      <td>...</td>\n",
       "      <td>0.0</td>\n",
       "      <td>0.0</td>\n",
       "      <td>0.0</td>\n",
       "      <td>0.0</td>\n",
       "      <td>0.0</td>\n",
       "      <td>0.0</td>\n",
       "      <td>0.0</td>\n",
       "      <td>0.0</td>\n",
       "      <td>0.0</td>\n",
       "      <td>1.0</td>\n",
       "    </tr>\n",
       "    <tr>\n",
       "      <th>1973</th>\n",
       "      <td>0.0</td>\n",
       "      <td>0.0</td>\n",
       "      <td>0.0</td>\n",
       "      <td>0.0</td>\n",
       "      <td>0.0</td>\n",
       "      <td>0.0</td>\n",
       "      <td>0.0</td>\n",
       "      <td>0.0</td>\n",
       "      <td>0.0</td>\n",
       "      <td>0.0</td>\n",
       "      <td>...</td>\n",
       "      <td>0.0</td>\n",
       "      <td>0.0</td>\n",
       "      <td>0.0</td>\n",
       "      <td>0.0</td>\n",
       "      <td>0.0</td>\n",
       "      <td>0.0</td>\n",
       "      <td>0.0</td>\n",
       "      <td>0.0</td>\n",
       "      <td>0.0</td>\n",
       "      <td>1.0</td>\n",
       "    </tr>\n",
       "    <tr>\n",
       "      <th>1974</th>\n",
       "      <td>0.0</td>\n",
       "      <td>0.0</td>\n",
       "      <td>0.0</td>\n",
       "      <td>0.0</td>\n",
       "      <td>0.0</td>\n",
       "      <td>0.0</td>\n",
       "      <td>0.0</td>\n",
       "      <td>0.0</td>\n",
       "      <td>0.0</td>\n",
       "      <td>0.0</td>\n",
       "      <td>...</td>\n",
       "      <td>0.0</td>\n",
       "      <td>0.0</td>\n",
       "      <td>0.0</td>\n",
       "      <td>0.0</td>\n",
       "      <td>0.0</td>\n",
       "      <td>0.0</td>\n",
       "      <td>0.0</td>\n",
       "      <td>0.0</td>\n",
       "      <td>0.0</td>\n",
       "      <td>1.0</td>\n",
       "    </tr>\n",
       "    <tr>\n",
       "      <th>1975</th>\n",
       "      <td>0.0</td>\n",
       "      <td>0.0</td>\n",
       "      <td>0.0</td>\n",
       "      <td>0.0</td>\n",
       "      <td>0.0</td>\n",
       "      <td>0.0</td>\n",
       "      <td>0.0</td>\n",
       "      <td>0.0</td>\n",
       "      <td>0.0</td>\n",
       "      <td>0.0</td>\n",
       "      <td>...</td>\n",
       "      <td>0.0</td>\n",
       "      <td>0.0</td>\n",
       "      <td>0.0</td>\n",
       "      <td>0.0</td>\n",
       "      <td>0.0</td>\n",
       "      <td>0.0</td>\n",
       "      <td>0.0</td>\n",
       "      <td>0.0</td>\n",
       "      <td>0.0</td>\n",
       "      <td>1.0</td>\n",
       "    </tr>\n",
       "    <tr>\n",
       "      <th>1976</th>\n",
       "      <td>0.0</td>\n",
       "      <td>0.0</td>\n",
       "      <td>0.0</td>\n",
       "      <td>0.0</td>\n",
       "      <td>0.0</td>\n",
       "      <td>0.0</td>\n",
       "      <td>0.0</td>\n",
       "      <td>0.0</td>\n",
       "      <td>0.0</td>\n",
       "      <td>0.0</td>\n",
       "      <td>...</td>\n",
       "      <td>0.0</td>\n",
       "      <td>0.0</td>\n",
       "      <td>0.0</td>\n",
       "      <td>0.0</td>\n",
       "      <td>0.0</td>\n",
       "      <td>0.0</td>\n",
       "      <td>0.0</td>\n",
       "      <td>0.0</td>\n",
       "      <td>0.0</td>\n",
       "      <td>1.0</td>\n",
       "    </tr>\n",
       "    <tr>\n",
       "      <th>1977</th>\n",
       "      <td>0.0</td>\n",
       "      <td>0.0</td>\n",
       "      <td>0.0</td>\n",
       "      <td>0.0</td>\n",
       "      <td>0.0</td>\n",
       "      <td>0.0</td>\n",
       "      <td>0.0</td>\n",
       "      <td>0.0</td>\n",
       "      <td>0.0</td>\n",
       "      <td>0.0</td>\n",
       "      <td>...</td>\n",
       "      <td>0.0</td>\n",
       "      <td>0.0</td>\n",
       "      <td>0.0</td>\n",
       "      <td>0.0</td>\n",
       "      <td>0.0</td>\n",
       "      <td>0.0</td>\n",
       "      <td>0.0</td>\n",
       "      <td>0.0</td>\n",
       "      <td>0.0</td>\n",
       "      <td>1.0</td>\n",
       "    </tr>\n",
       "    <tr>\n",
       "      <th>1978</th>\n",
       "      <td>0.0</td>\n",
       "      <td>0.0</td>\n",
       "      <td>0.0</td>\n",
       "      <td>0.0</td>\n",
       "      <td>0.0</td>\n",
       "      <td>0.0</td>\n",
       "      <td>0.0</td>\n",
       "      <td>0.0</td>\n",
       "      <td>0.0</td>\n",
       "      <td>0.0</td>\n",
       "      <td>...</td>\n",
       "      <td>0.0</td>\n",
       "      <td>0.0</td>\n",
       "      <td>0.0</td>\n",
       "      <td>0.0</td>\n",
       "      <td>0.0</td>\n",
       "      <td>0.0</td>\n",
       "      <td>0.0</td>\n",
       "      <td>0.0</td>\n",
       "      <td>0.0</td>\n",
       "      <td>1.0</td>\n",
       "    </tr>\n",
       "    <tr>\n",
       "      <th>1979</th>\n",
       "      <td>0.0</td>\n",
       "      <td>0.0</td>\n",
       "      <td>0.0</td>\n",
       "      <td>0.0</td>\n",
       "      <td>0.0</td>\n",
       "      <td>0.0</td>\n",
       "      <td>0.0</td>\n",
       "      <td>0.0</td>\n",
       "      <td>0.0</td>\n",
       "      <td>0.0</td>\n",
       "      <td>...</td>\n",
       "      <td>0.0</td>\n",
       "      <td>0.0</td>\n",
       "      <td>0.0</td>\n",
       "      <td>0.0</td>\n",
       "      <td>0.0</td>\n",
       "      <td>0.0</td>\n",
       "      <td>0.0</td>\n",
       "      <td>0.0</td>\n",
       "      <td>0.0</td>\n",
       "      <td>1.0</td>\n",
       "    </tr>\n",
       "    <tr>\n",
       "      <th>1980</th>\n",
       "      <td>0.0</td>\n",
       "      <td>0.0</td>\n",
       "      <td>0.0</td>\n",
       "      <td>0.0</td>\n",
       "      <td>0.0</td>\n",
       "      <td>0.0</td>\n",
       "      <td>0.0</td>\n",
       "      <td>0.0</td>\n",
       "      <td>0.0</td>\n",
       "      <td>0.0</td>\n",
       "      <td>...</td>\n",
       "      <td>0.0</td>\n",
       "      <td>0.0</td>\n",
       "      <td>0.0</td>\n",
       "      <td>0.0</td>\n",
       "      <td>0.0</td>\n",
       "      <td>0.0</td>\n",
       "      <td>0.0</td>\n",
       "      <td>0.0</td>\n",
       "      <td>0.0</td>\n",
       "      <td>1.0</td>\n",
       "    </tr>\n",
       "    <tr>\n",
       "      <th>1981</th>\n",
       "      <td>0.0</td>\n",
       "      <td>0.0</td>\n",
       "      <td>0.0</td>\n",
       "      <td>0.0</td>\n",
       "      <td>0.0</td>\n",
       "      <td>0.0</td>\n",
       "      <td>0.0</td>\n",
       "      <td>0.0</td>\n",
       "      <td>0.0</td>\n",
       "      <td>0.0</td>\n",
       "      <td>...</td>\n",
       "      <td>0.0</td>\n",
       "      <td>0.0</td>\n",
       "      <td>0.0</td>\n",
       "      <td>0.0</td>\n",
       "      <td>0.0</td>\n",
       "      <td>0.0</td>\n",
       "      <td>0.0</td>\n",
       "      <td>0.0</td>\n",
       "      <td>0.0</td>\n",
       "      <td>1.0</td>\n",
       "    </tr>\n",
       "    <tr>\n",
       "      <th>1982</th>\n",
       "      <td>0.0</td>\n",
       "      <td>0.0</td>\n",
       "      <td>0.0</td>\n",
       "      <td>0.0</td>\n",
       "      <td>0.0</td>\n",
       "      <td>0.0</td>\n",
       "      <td>0.0</td>\n",
       "      <td>0.0</td>\n",
       "      <td>0.0</td>\n",
       "      <td>0.0</td>\n",
       "      <td>...</td>\n",
       "      <td>0.0</td>\n",
       "      <td>0.0</td>\n",
       "      <td>0.0</td>\n",
       "      <td>0.0</td>\n",
       "      <td>0.0</td>\n",
       "      <td>0.0</td>\n",
       "      <td>0.0</td>\n",
       "      <td>0.0</td>\n",
       "      <td>0.0</td>\n",
       "      <td>1.0</td>\n",
       "    </tr>\n",
       "    <tr>\n",
       "      <th>1983</th>\n",
       "      <td>0.0</td>\n",
       "      <td>0.0</td>\n",
       "      <td>0.0</td>\n",
       "      <td>0.0</td>\n",
       "      <td>0.0</td>\n",
       "      <td>0.0</td>\n",
       "      <td>0.0</td>\n",
       "      <td>0.0</td>\n",
       "      <td>0.0</td>\n",
       "      <td>0.0</td>\n",
       "      <td>...</td>\n",
       "      <td>0.0</td>\n",
       "      <td>0.0</td>\n",
       "      <td>0.0</td>\n",
       "      <td>0.0</td>\n",
       "      <td>0.0</td>\n",
       "      <td>0.0</td>\n",
       "      <td>0.0</td>\n",
       "      <td>0.0</td>\n",
       "      <td>0.0</td>\n",
       "      <td>1.0</td>\n",
       "    </tr>\n",
       "    <tr>\n",
       "      <th>1984</th>\n",
       "      <td>0.0</td>\n",
       "      <td>0.0</td>\n",
       "      <td>0.0</td>\n",
       "      <td>0.0</td>\n",
       "      <td>0.0</td>\n",
       "      <td>0.0</td>\n",
       "      <td>0.0</td>\n",
       "      <td>0.0</td>\n",
       "      <td>0.0</td>\n",
       "      <td>0.0</td>\n",
       "      <td>...</td>\n",
       "      <td>0.0</td>\n",
       "      <td>0.0</td>\n",
       "      <td>0.0</td>\n",
       "      <td>0.0</td>\n",
       "      <td>0.0</td>\n",
       "      <td>0.0</td>\n",
       "      <td>0.0</td>\n",
       "      <td>0.0</td>\n",
       "      <td>0.0</td>\n",
       "      <td>1.0</td>\n",
       "    </tr>\n",
       "    <tr>\n",
       "      <th>1985</th>\n",
       "      <td>0.0</td>\n",
       "      <td>0.0</td>\n",
       "      <td>0.0</td>\n",
       "      <td>0.0</td>\n",
       "      <td>0.0</td>\n",
       "      <td>0.0</td>\n",
       "      <td>0.0</td>\n",
       "      <td>0.0</td>\n",
       "      <td>0.0</td>\n",
       "      <td>0.0</td>\n",
       "      <td>...</td>\n",
       "      <td>0.0</td>\n",
       "      <td>0.0</td>\n",
       "      <td>0.0</td>\n",
       "      <td>0.0</td>\n",
       "      <td>0.0</td>\n",
       "      <td>0.0</td>\n",
       "      <td>0.0</td>\n",
       "      <td>0.0</td>\n",
       "      <td>0.0</td>\n",
       "      <td>1.0</td>\n",
       "    </tr>\n",
       "    <tr>\n",
       "      <th>1986</th>\n",
       "      <td>0.0</td>\n",
       "      <td>0.0</td>\n",
       "      <td>0.0</td>\n",
       "      <td>0.0</td>\n",
       "      <td>0.0</td>\n",
       "      <td>0.0</td>\n",
       "      <td>0.0</td>\n",
       "      <td>0.0</td>\n",
       "      <td>0.0</td>\n",
       "      <td>0.0</td>\n",
       "      <td>...</td>\n",
       "      <td>0.0</td>\n",
       "      <td>0.0</td>\n",
       "      <td>0.0</td>\n",
       "      <td>0.0</td>\n",
       "      <td>0.0</td>\n",
       "      <td>0.0</td>\n",
       "      <td>0.0</td>\n",
       "      <td>0.0</td>\n",
       "      <td>0.0</td>\n",
       "      <td>1.0</td>\n",
       "    </tr>\n",
       "    <tr>\n",
       "      <th>1987</th>\n",
       "      <td>0.0</td>\n",
       "      <td>0.0</td>\n",
       "      <td>0.0</td>\n",
       "      <td>0.0</td>\n",
       "      <td>0.0</td>\n",
       "      <td>0.0</td>\n",
       "      <td>0.0</td>\n",
       "      <td>0.0</td>\n",
       "      <td>0.0</td>\n",
       "      <td>0.0</td>\n",
       "      <td>...</td>\n",
       "      <td>0.0</td>\n",
       "      <td>0.0</td>\n",
       "      <td>0.0</td>\n",
       "      <td>0.0</td>\n",
       "      <td>0.0</td>\n",
       "      <td>0.0</td>\n",
       "      <td>0.0</td>\n",
       "      <td>0.0</td>\n",
       "      <td>0.0</td>\n",
       "      <td>1.0</td>\n",
       "    </tr>\n",
       "    <tr>\n",
       "      <th>1988</th>\n",
       "      <td>0.0</td>\n",
       "      <td>0.0</td>\n",
       "      <td>0.0</td>\n",
       "      <td>0.0</td>\n",
       "      <td>0.0</td>\n",
       "      <td>0.0</td>\n",
       "      <td>0.0</td>\n",
       "      <td>0.0</td>\n",
       "      <td>0.0</td>\n",
       "      <td>0.0</td>\n",
       "      <td>...</td>\n",
       "      <td>0.0</td>\n",
       "      <td>0.0</td>\n",
       "      <td>0.0</td>\n",
       "      <td>0.0</td>\n",
       "      <td>0.0</td>\n",
       "      <td>0.0</td>\n",
       "      <td>0.0</td>\n",
       "      <td>0.0</td>\n",
       "      <td>0.0</td>\n",
       "      <td>1.0</td>\n",
       "    </tr>\n",
       "    <tr>\n",
       "      <th>1989</th>\n",
       "      <td>0.0</td>\n",
       "      <td>0.0</td>\n",
       "      <td>0.0</td>\n",
       "      <td>0.0</td>\n",
       "      <td>0.0</td>\n",
       "      <td>0.0</td>\n",
       "      <td>0.0</td>\n",
       "      <td>0.0</td>\n",
       "      <td>0.0</td>\n",
       "      <td>0.0</td>\n",
       "      <td>...</td>\n",
       "      <td>0.0</td>\n",
       "      <td>0.0</td>\n",
       "      <td>0.0</td>\n",
       "      <td>0.0</td>\n",
       "      <td>0.0</td>\n",
       "      <td>0.0</td>\n",
       "      <td>0.0</td>\n",
       "      <td>0.0</td>\n",
       "      <td>0.0</td>\n",
       "      <td>1.0</td>\n",
       "    </tr>\n",
       "    <tr>\n",
       "      <th>1990</th>\n",
       "      <td>0.0</td>\n",
       "      <td>0.0</td>\n",
       "      <td>0.0</td>\n",
       "      <td>0.0</td>\n",
       "      <td>0.0</td>\n",
       "      <td>0.0</td>\n",
       "      <td>0.0</td>\n",
       "      <td>0.0</td>\n",
       "      <td>0.0</td>\n",
       "      <td>0.0</td>\n",
       "      <td>...</td>\n",
       "      <td>0.0</td>\n",
       "      <td>0.0</td>\n",
       "      <td>0.0</td>\n",
       "      <td>0.0</td>\n",
       "      <td>0.0</td>\n",
       "      <td>0.0</td>\n",
       "      <td>0.0</td>\n",
       "      <td>0.0</td>\n",
       "      <td>0.0</td>\n",
       "      <td>1.0</td>\n",
       "    </tr>\n",
       "    <tr>\n",
       "      <th>1991</th>\n",
       "      <td>0.0</td>\n",
       "      <td>0.0</td>\n",
       "      <td>0.0</td>\n",
       "      <td>0.0</td>\n",
       "      <td>0.0</td>\n",
       "      <td>0.0</td>\n",
       "      <td>0.0</td>\n",
       "      <td>0.0</td>\n",
       "      <td>0.0</td>\n",
       "      <td>0.0</td>\n",
       "      <td>...</td>\n",
       "      <td>0.0</td>\n",
       "      <td>0.0</td>\n",
       "      <td>0.0</td>\n",
       "      <td>0.0</td>\n",
       "      <td>0.0</td>\n",
       "      <td>0.0</td>\n",
       "      <td>0.0</td>\n",
       "      <td>0.0</td>\n",
       "      <td>0.0</td>\n",
       "      <td>1.0</td>\n",
       "    </tr>\n",
       "    <tr>\n",
       "      <th>1992</th>\n",
       "      <td>0.0</td>\n",
       "      <td>0.0</td>\n",
       "      <td>0.0</td>\n",
       "      <td>0.0</td>\n",
       "      <td>0.0</td>\n",
       "      <td>0.0</td>\n",
       "      <td>0.0</td>\n",
       "      <td>0.0</td>\n",
       "      <td>0.0</td>\n",
       "      <td>0.0</td>\n",
       "      <td>...</td>\n",
       "      <td>0.0</td>\n",
       "      <td>0.0</td>\n",
       "      <td>0.0</td>\n",
       "      <td>0.0</td>\n",
       "      <td>0.0</td>\n",
       "      <td>0.0</td>\n",
       "      <td>0.0</td>\n",
       "      <td>0.0</td>\n",
       "      <td>0.0</td>\n",
       "      <td>1.0</td>\n",
       "    </tr>\n",
       "    <tr>\n",
       "      <th>1993</th>\n",
       "      <td>0.0</td>\n",
       "      <td>0.0</td>\n",
       "      <td>0.0</td>\n",
       "      <td>0.0</td>\n",
       "      <td>0.0</td>\n",
       "      <td>0.0</td>\n",
       "      <td>0.0</td>\n",
       "      <td>0.0</td>\n",
       "      <td>0.0</td>\n",
       "      <td>0.0</td>\n",
       "      <td>...</td>\n",
       "      <td>0.0</td>\n",
       "      <td>0.0</td>\n",
       "      <td>0.0</td>\n",
       "      <td>0.0</td>\n",
       "      <td>0.0</td>\n",
       "      <td>0.0</td>\n",
       "      <td>0.0</td>\n",
       "      <td>0.0</td>\n",
       "      <td>0.0</td>\n",
       "      <td>1.0</td>\n",
       "    </tr>\n",
       "    <tr>\n",
       "      <th>1994</th>\n",
       "      <td>0.0</td>\n",
       "      <td>0.0</td>\n",
       "      <td>0.0</td>\n",
       "      <td>0.0</td>\n",
       "      <td>0.0</td>\n",
       "      <td>0.0</td>\n",
       "      <td>0.0</td>\n",
       "      <td>0.0</td>\n",
       "      <td>0.0</td>\n",
       "      <td>0.0</td>\n",
       "      <td>...</td>\n",
       "      <td>0.0</td>\n",
       "      <td>0.0</td>\n",
       "      <td>0.0</td>\n",
       "      <td>0.0</td>\n",
       "      <td>0.0</td>\n",
       "      <td>0.0</td>\n",
       "      <td>0.0</td>\n",
       "      <td>0.0</td>\n",
       "      <td>0.0</td>\n",
       "      <td>1.0</td>\n",
       "    </tr>\n",
       "    <tr>\n",
       "      <th>1995</th>\n",
       "      <td>0.0</td>\n",
       "      <td>0.0</td>\n",
       "      <td>0.0</td>\n",
       "      <td>0.0</td>\n",
       "      <td>0.0</td>\n",
       "      <td>0.0</td>\n",
       "      <td>0.0</td>\n",
       "      <td>0.0</td>\n",
       "      <td>0.0</td>\n",
       "      <td>0.0</td>\n",
       "      <td>...</td>\n",
       "      <td>0.0</td>\n",
       "      <td>0.0</td>\n",
       "      <td>0.0</td>\n",
       "      <td>0.0</td>\n",
       "      <td>0.0</td>\n",
       "      <td>0.0</td>\n",
       "      <td>0.0</td>\n",
       "      <td>0.0</td>\n",
       "      <td>0.0</td>\n",
       "      <td>1.0</td>\n",
       "    </tr>\n",
       "    <tr>\n",
       "      <th>1996</th>\n",
       "      <td>0.0</td>\n",
       "      <td>0.0</td>\n",
       "      <td>0.0</td>\n",
       "      <td>0.0</td>\n",
       "      <td>0.0</td>\n",
       "      <td>0.0</td>\n",
       "      <td>0.0</td>\n",
       "      <td>0.0</td>\n",
       "      <td>0.0</td>\n",
       "      <td>0.0</td>\n",
       "      <td>...</td>\n",
       "      <td>0.0</td>\n",
       "      <td>0.0</td>\n",
       "      <td>0.0</td>\n",
       "      <td>0.0</td>\n",
       "      <td>0.0</td>\n",
       "      <td>0.0</td>\n",
       "      <td>0.0</td>\n",
       "      <td>0.0</td>\n",
       "      <td>0.0</td>\n",
       "      <td>1.0</td>\n",
       "    </tr>\n",
       "    <tr>\n",
       "      <th>1997</th>\n",
       "      <td>0.0</td>\n",
       "      <td>0.0</td>\n",
       "      <td>0.0</td>\n",
       "      <td>0.0</td>\n",
       "      <td>0.0</td>\n",
       "      <td>0.0</td>\n",
       "      <td>0.0</td>\n",
       "      <td>0.0</td>\n",
       "      <td>0.0</td>\n",
       "      <td>0.0</td>\n",
       "      <td>...</td>\n",
       "      <td>0.0</td>\n",
       "      <td>0.0</td>\n",
       "      <td>0.0</td>\n",
       "      <td>0.0</td>\n",
       "      <td>0.0</td>\n",
       "      <td>0.0</td>\n",
       "      <td>0.0</td>\n",
       "      <td>0.0</td>\n",
       "      <td>0.0</td>\n",
       "      <td>1.0</td>\n",
       "    </tr>\n",
       "    <tr>\n",
       "      <th>1998</th>\n",
       "      <td>0.0</td>\n",
       "      <td>0.0</td>\n",
       "      <td>0.0</td>\n",
       "      <td>0.0</td>\n",
       "      <td>0.0</td>\n",
       "      <td>0.0</td>\n",
       "      <td>0.0</td>\n",
       "      <td>0.0</td>\n",
       "      <td>0.0</td>\n",
       "      <td>0.0</td>\n",
       "      <td>...</td>\n",
       "      <td>0.0</td>\n",
       "      <td>0.0</td>\n",
       "      <td>0.0</td>\n",
       "      <td>0.0</td>\n",
       "      <td>0.0</td>\n",
       "      <td>0.0</td>\n",
       "      <td>0.0</td>\n",
       "      <td>0.0</td>\n",
       "      <td>0.0</td>\n",
       "      <td>1.0</td>\n",
       "    </tr>\n",
       "    <tr>\n",
       "      <th>1999</th>\n",
       "      <td>0.0</td>\n",
       "      <td>0.0</td>\n",
       "      <td>0.0</td>\n",
       "      <td>0.0</td>\n",
       "      <td>0.0</td>\n",
       "      <td>0.0</td>\n",
       "      <td>0.0</td>\n",
       "      <td>0.0</td>\n",
       "      <td>0.0</td>\n",
       "      <td>0.0</td>\n",
       "      <td>...</td>\n",
       "      <td>0.0</td>\n",
       "      <td>0.0</td>\n",
       "      <td>0.0</td>\n",
       "      <td>0.0</td>\n",
       "      <td>0.0</td>\n",
       "      <td>0.0</td>\n",
       "      <td>0.0</td>\n",
       "      <td>0.0</td>\n",
       "      <td>0.0</td>\n",
       "      <td>1.0</td>\n",
       "    </tr>\n",
       "  </tbody>\n",
       "</table>\n",
       "<p>2000 rows × 2263 columns</p>\n",
       "</div>"
      ],
      "text/plain": [
       "      Agencia_ID_1111  Agencia_ID_1112  Agencia_ID_1113  Agencia_ID_1116  \\\n",
       "0                 0.0              0.0              0.0              0.0   \n",
       "1                 0.0              0.0              0.0              0.0   \n",
       "2                 0.0              0.0              0.0              0.0   \n",
       "3                 0.0              0.0              0.0              0.0   \n",
       "4                 0.0              0.0              0.0              0.0   \n",
       "5                 0.0              0.0              0.0              0.0   \n",
       "6                 0.0              0.0              0.0              0.0   \n",
       "7                 0.0              0.0              0.0              0.0   \n",
       "8                 0.0              0.0              0.0              0.0   \n",
       "9                 0.0              0.0              0.0              0.0   \n",
       "10                0.0              0.0              0.0              0.0   \n",
       "11                0.0              0.0              0.0              0.0   \n",
       "12                0.0              0.0              0.0              0.0   \n",
       "13                0.0              0.0              0.0              0.0   \n",
       "14                0.0              0.0              0.0              0.0   \n",
       "15                0.0              0.0              0.0              0.0   \n",
       "16                0.0              0.0              0.0              0.0   \n",
       "17                0.0              0.0              0.0              0.0   \n",
       "18                0.0              0.0              0.0              0.0   \n",
       "19                0.0              0.0              0.0              0.0   \n",
       "20                0.0              0.0              0.0              0.0   \n",
       "21                0.0              0.0              0.0              0.0   \n",
       "22                0.0              0.0              0.0              0.0   \n",
       "23                0.0              0.0              0.0              0.0   \n",
       "24                0.0              0.0              0.0              0.0   \n",
       "25                0.0              0.0              0.0              0.0   \n",
       "26                0.0              0.0              0.0              0.0   \n",
       "27                0.0              0.0              0.0              0.0   \n",
       "28                0.0              0.0              0.0              0.0   \n",
       "29                0.0              0.0              0.0              0.0   \n",
       "...               ...              ...              ...              ...   \n",
       "1970              0.0              0.0              0.0              0.0   \n",
       "1971              0.0              0.0              0.0              0.0   \n",
       "1972              0.0              0.0              0.0              0.0   \n",
       "1973              0.0              0.0              0.0              0.0   \n",
       "1974              0.0              0.0              0.0              0.0   \n",
       "1975              0.0              0.0              0.0              0.0   \n",
       "1976              0.0              0.0              0.0              0.0   \n",
       "1977              0.0              0.0              0.0              0.0   \n",
       "1978              0.0              0.0              0.0              0.0   \n",
       "1979              0.0              0.0              0.0              0.0   \n",
       "1980              0.0              0.0              0.0              0.0   \n",
       "1981              0.0              0.0              0.0              0.0   \n",
       "1982              0.0              0.0              0.0              0.0   \n",
       "1983              0.0              0.0              0.0              0.0   \n",
       "1984              0.0              0.0              0.0              0.0   \n",
       "1985              0.0              0.0              0.0              0.0   \n",
       "1986              0.0              0.0              0.0              0.0   \n",
       "1987              0.0              0.0              0.0              0.0   \n",
       "1988              0.0              0.0              0.0              0.0   \n",
       "1989              0.0              0.0              0.0              0.0   \n",
       "1990              0.0              0.0              0.0              0.0   \n",
       "1991              0.0              0.0              0.0              0.0   \n",
       "1992              0.0              0.0              0.0              0.0   \n",
       "1993              0.0              0.0              0.0              0.0   \n",
       "1994              0.0              0.0              0.0              0.0   \n",
       "1995              0.0              0.0              0.0              0.0   \n",
       "1996              0.0              0.0              0.0              0.0   \n",
       "1997              0.0              0.0              0.0              0.0   \n",
       "1998              0.0              0.0              0.0              0.0   \n",
       "1999              0.0              0.0              0.0              0.0   \n",
       "\n",
       "      Agencia_ID_1117  Agencia_ID_1118  Agencia_ID_1119  Agencia_ID_1120  \\\n",
       "0                 0.0              0.0              0.0              0.0   \n",
       "1                 0.0              0.0              0.0              0.0   \n",
       "2                 0.0              0.0              0.0              0.0   \n",
       "3                 0.0              0.0              0.0              0.0   \n",
       "4                 0.0              0.0              0.0              0.0   \n",
       "5                 0.0              0.0              0.0              0.0   \n",
       "6                 0.0              0.0              0.0              0.0   \n",
       "7                 0.0              0.0              0.0              0.0   \n",
       "8                 0.0              0.0              0.0              0.0   \n",
       "9                 0.0              0.0              0.0              0.0   \n",
       "10                0.0              0.0              0.0              0.0   \n",
       "11                0.0              0.0              0.0              0.0   \n",
       "12                0.0              0.0              0.0              0.0   \n",
       "13                0.0              0.0              0.0              0.0   \n",
       "14                0.0              0.0              0.0              0.0   \n",
       "15                0.0              0.0              0.0              0.0   \n",
       "16                0.0              0.0              0.0              0.0   \n",
       "17                0.0              0.0              0.0              0.0   \n",
       "18                0.0              0.0              0.0              0.0   \n",
       "19                0.0              0.0              0.0              0.0   \n",
       "20                0.0              0.0              0.0              0.0   \n",
       "21                0.0              0.0              0.0              0.0   \n",
       "22                0.0              0.0              0.0              0.0   \n",
       "23                0.0              0.0              0.0              0.0   \n",
       "24                0.0              0.0              0.0              0.0   \n",
       "25                0.0              0.0              0.0              0.0   \n",
       "26                0.0              0.0              0.0              0.0   \n",
       "27                0.0              0.0              0.0              0.0   \n",
       "28                0.0              0.0              0.0              0.0   \n",
       "29                0.0              0.0              0.0              0.0   \n",
       "...               ...              ...              ...              ...   \n",
       "1970              0.0              0.0              0.0              0.0   \n",
       "1971              0.0              0.0              0.0              0.0   \n",
       "1972              0.0              0.0              0.0              0.0   \n",
       "1973              0.0              0.0              0.0              0.0   \n",
       "1974              0.0              0.0              0.0              0.0   \n",
       "1975              0.0              0.0              0.0              0.0   \n",
       "1976              0.0              0.0              0.0              0.0   \n",
       "1977              0.0              0.0              0.0              0.0   \n",
       "1978              0.0              0.0              0.0              0.0   \n",
       "1979              0.0              0.0              0.0              0.0   \n",
       "1980              0.0              0.0              0.0              0.0   \n",
       "1981              0.0              0.0              0.0              0.0   \n",
       "1982              0.0              0.0              0.0              0.0   \n",
       "1983              0.0              0.0              0.0              0.0   \n",
       "1984              0.0              0.0              0.0              0.0   \n",
       "1985              0.0              0.0              0.0              0.0   \n",
       "1986              0.0              0.0              0.0              0.0   \n",
       "1987              0.0              0.0              0.0              0.0   \n",
       "1988              0.0              0.0              0.0              0.0   \n",
       "1989              0.0              0.0              0.0              0.0   \n",
       "1990              0.0              0.0              0.0              0.0   \n",
       "1991              0.0              0.0              0.0              0.0   \n",
       "1992              0.0              0.0              0.0              0.0   \n",
       "1993              0.0              0.0              0.0              0.0   \n",
       "1994              0.0              0.0              0.0              0.0   \n",
       "1995              0.0              0.0              0.0              0.0   \n",
       "1996              0.0              0.0              0.0              0.0   \n",
       "1997              0.0              0.0              0.0              0.0   \n",
       "1998              0.0              0.0              0.0              0.0   \n",
       "1999              0.0              0.0              0.0              0.0   \n",
       "\n",
       "      Agencia_ID_1121  Agencia_ID_1122      ...       Cliente_ID_4667407  \\\n",
       "0                 0.0              0.0      ...                      0.0   \n",
       "1                 0.0              0.0      ...                      0.0   \n",
       "2                 0.0              0.0      ...                      0.0   \n",
       "3                 0.0              0.0      ...                      0.0   \n",
       "4                 0.0              0.0      ...                      0.0   \n",
       "5                 0.0              0.0      ...                      0.0   \n",
       "6                 0.0              0.0      ...                      0.0   \n",
       "7                 0.0              0.0      ...                      0.0   \n",
       "8                 0.0              0.0      ...                      0.0   \n",
       "9                 0.0              0.0      ...                      0.0   \n",
       "10                0.0              0.0      ...                      0.0   \n",
       "11                0.0              0.0      ...                      0.0   \n",
       "12                0.0              0.0      ...                      0.0   \n",
       "13                0.0              0.0      ...                      0.0   \n",
       "14                0.0              0.0      ...                      0.0   \n",
       "15                0.0              0.0      ...                      0.0   \n",
       "16                0.0              0.0      ...                      0.0   \n",
       "17                0.0              0.0      ...                      0.0   \n",
       "18                0.0              0.0      ...                      0.0   \n",
       "19                0.0              0.0      ...                      0.0   \n",
       "20                0.0              0.0      ...                      0.0   \n",
       "21                0.0              0.0      ...                      0.0   \n",
       "22                0.0              0.0      ...                      0.0   \n",
       "23                0.0              0.0      ...                      0.0   \n",
       "24                0.0              0.0      ...                      0.0   \n",
       "25                0.0              0.0      ...                      0.0   \n",
       "26                0.0              0.0      ...                      0.0   \n",
       "27                0.0              0.0      ...                      0.0   \n",
       "28                0.0              0.0      ...                      0.0   \n",
       "29                0.0              0.0      ...                      0.0   \n",
       "...               ...              ...      ...                      ...   \n",
       "1970              0.0              0.0      ...                      0.0   \n",
       "1971              0.0              0.0      ...                      0.0   \n",
       "1972              0.0              0.0      ...                      0.0   \n",
       "1973              0.0              0.0      ...                      0.0   \n",
       "1974              0.0              0.0      ...                      0.0   \n",
       "1975              0.0              0.0      ...                      0.0   \n",
       "1976              0.0              0.0      ...                      0.0   \n",
       "1977              0.0              0.0      ...                      0.0   \n",
       "1978              0.0              0.0      ...                      0.0   \n",
       "1979              0.0              0.0      ...                      0.0   \n",
       "1980              0.0              0.0      ...                      0.0   \n",
       "1981              0.0              0.0      ...                      0.0   \n",
       "1982              0.0              0.0      ...                      0.0   \n",
       "1983              0.0              0.0      ...                      0.0   \n",
       "1984              0.0              0.0      ...                      0.0   \n",
       "1985              0.0              0.0      ...                      0.0   \n",
       "1986              0.0              0.0      ...                      0.0   \n",
       "1987              0.0              0.0      ...                      0.0   \n",
       "1988              0.0              0.0      ...                      0.0   \n",
       "1989              0.0              0.0      ...                      0.0   \n",
       "1990              0.0              0.0      ...                      0.0   \n",
       "1991              0.0              0.0      ...                      0.0   \n",
       "1992              0.0              0.0      ...                      0.0   \n",
       "1993              0.0              0.0      ...                      0.0   \n",
       "1994              0.0              0.0      ...                      0.0   \n",
       "1995              0.0              0.0      ...                      0.0   \n",
       "1996              0.0              0.0      ...                      0.0   \n",
       "1997              0.0              0.0      ...                      0.0   \n",
       "1998              0.0              0.0      ...                      0.0   \n",
       "1999              0.0              0.0      ...                      0.0   \n",
       "\n",
       "      Cliente_ID_4667610  Cliente_ID_4667634  Cliente_ID_4667644  \\\n",
       "0                    0.0                 0.0                 0.0   \n",
       "1                    0.0                 0.0                 0.0   \n",
       "2                    0.0                 0.0                 0.0   \n",
       "3                    0.0                 0.0                 0.0   \n",
       "4                    0.0                 0.0                 0.0   \n",
       "5                    0.0                 0.0                 0.0   \n",
       "6                    0.0                 0.0                 0.0   \n",
       "7                    0.0                 0.0                 0.0   \n",
       "8                    0.0                 0.0                 0.0   \n",
       "9                    0.0                 0.0                 0.0   \n",
       "10                   0.0                 0.0                 0.0   \n",
       "11                   0.0                 0.0                 0.0   \n",
       "12                   0.0                 0.0                 0.0   \n",
       "13                   0.0                 0.0                 0.0   \n",
       "14                   0.0                 0.0                 0.0   \n",
       "15                   0.0                 0.0                 0.0   \n",
       "16                   0.0                 0.0                 0.0   \n",
       "17                   0.0                 0.0                 0.0   \n",
       "18                   0.0                 0.0                 0.0   \n",
       "19                   0.0                 0.0                 0.0   \n",
       "20                   0.0                 0.0                 0.0   \n",
       "21                   0.0                 0.0                 0.0   \n",
       "22                   0.0                 0.0                 0.0   \n",
       "23                   0.0                 0.0                 0.0   \n",
       "24                   0.0                 0.0                 0.0   \n",
       "25                   0.0                 0.0                 0.0   \n",
       "26                   0.0                 0.0                 0.0   \n",
       "27                   0.0                 0.0                 0.0   \n",
       "28                   0.0                 0.0                 0.0   \n",
       "29                   0.0                 0.0                 0.0   \n",
       "...                  ...                 ...                 ...   \n",
       "1970                 0.0                 0.0                 0.0   \n",
       "1971                 0.0                 0.0                 0.0   \n",
       "1972                 0.0                 0.0                 0.0   \n",
       "1973                 0.0                 0.0                 0.0   \n",
       "1974                 0.0                 0.0                 0.0   \n",
       "1975                 0.0                 0.0                 0.0   \n",
       "1976                 0.0                 0.0                 0.0   \n",
       "1977                 0.0                 0.0                 0.0   \n",
       "1978                 0.0                 0.0                 0.0   \n",
       "1979                 0.0                 0.0                 0.0   \n",
       "1980                 0.0                 0.0                 0.0   \n",
       "1981                 0.0                 0.0                 0.0   \n",
       "1982                 0.0                 0.0                 0.0   \n",
       "1983                 0.0                 0.0                 0.0   \n",
       "1984                 0.0                 0.0                 0.0   \n",
       "1985                 0.0                 0.0                 0.0   \n",
       "1986                 0.0                 0.0                 0.0   \n",
       "1987                 0.0                 0.0                 0.0   \n",
       "1988                 0.0                 0.0                 0.0   \n",
       "1989                 0.0                 0.0                 0.0   \n",
       "1990                 0.0                 0.0                 0.0   \n",
       "1991                 0.0                 0.0                 0.0   \n",
       "1992                 0.0                 0.0                 0.0   \n",
       "1993                 0.0                 0.0                 0.0   \n",
       "1994                 0.0                 0.0                 0.0   \n",
       "1995                 0.0                 0.0                 0.0   \n",
       "1996                 0.0                 0.0                 0.0   \n",
       "1997                 0.0                 0.0                 0.0   \n",
       "1998                 0.0                 0.0                 0.0   \n",
       "1999                 0.0                 0.0                 0.0   \n",
       "\n",
       "      Cliente_ID_4672186  Cliente_ID_4686776  Cliente_ID_5903732  \\\n",
       "0                    0.0                 0.0                 0.0   \n",
       "1                    0.0                 0.0                 0.0   \n",
       "2                    0.0                 0.0                 0.0   \n",
       "3                    0.0                 0.0                 0.0   \n",
       "4                    0.0                 0.0                 0.0   \n",
       "5                    0.0                 0.0                 0.0   \n",
       "6                    0.0                 0.0                 0.0   \n",
       "7                    0.0                 0.0                 0.0   \n",
       "8                    0.0                 0.0                 0.0   \n",
       "9                    0.0                 0.0                 0.0   \n",
       "10                   0.0                 0.0                 0.0   \n",
       "11                   0.0                 0.0                 0.0   \n",
       "12                   0.0                 0.0                 0.0   \n",
       "13                   0.0                 0.0                 0.0   \n",
       "14                   0.0                 0.0                 0.0   \n",
       "15                   0.0                 0.0                 0.0   \n",
       "16                   0.0                 0.0                 0.0   \n",
       "17                   0.0                 0.0                 0.0   \n",
       "18                   0.0                 0.0                 0.0   \n",
       "19                   0.0                 0.0                 0.0   \n",
       "20                   0.0                 0.0                 0.0   \n",
       "21                   0.0                 0.0                 0.0   \n",
       "22                   0.0                 0.0                 0.0   \n",
       "23                   0.0                 0.0                 0.0   \n",
       "24                   0.0                 0.0                 0.0   \n",
       "25                   0.0                 0.0                 0.0   \n",
       "26                   0.0                 0.0                 0.0   \n",
       "27                   0.0                 0.0                 0.0   \n",
       "28                   0.0                 0.0                 0.0   \n",
       "29                   0.0                 0.0                 0.0   \n",
       "...                  ...                 ...                 ...   \n",
       "1970                 0.0                 0.0                 0.0   \n",
       "1971                 0.0                 0.0                 0.0   \n",
       "1972                 0.0                 0.0                 0.0   \n",
       "1973                 0.0                 0.0                 0.0   \n",
       "1974                 0.0                 0.0                 0.0   \n",
       "1975                 0.0                 0.0                 0.0   \n",
       "1976                 0.0                 0.0                 0.0   \n",
       "1977                 0.0                 0.0                 0.0   \n",
       "1978                 0.0                 0.0                 0.0   \n",
       "1979                 0.0                 0.0                 0.0   \n",
       "1980                 0.0                 0.0                 0.0   \n",
       "1981                 0.0                 0.0                 0.0   \n",
       "1982                 0.0                 0.0                 0.0   \n",
       "1983                 0.0                 0.0                 0.0   \n",
       "1984                 0.0                 0.0                 0.0   \n",
       "1985                 0.0                 0.0                 0.0   \n",
       "1986                 0.0                 0.0                 0.0   \n",
       "1987                 0.0                 0.0                 0.0   \n",
       "1988                 0.0                 0.0                 0.0   \n",
       "1989                 0.0                 0.0                 0.0   \n",
       "1990                 0.0                 0.0                 0.0   \n",
       "1991                 0.0                 0.0                 0.0   \n",
       "1992                 0.0                 0.0                 0.0   \n",
       "1993                 0.0                 0.0                 0.0   \n",
       "1994                 0.0                 0.0                 0.0   \n",
       "1995                 0.0                 0.0                 0.0   \n",
       "1996                 0.0                 0.0                 0.0   \n",
       "1997                 0.0                 0.0                 0.0   \n",
       "1998                 0.0                 0.0                 0.0   \n",
       "1999                 0.0                 0.0                 0.0   \n",
       "\n",
       "      Cliente_ID_6105744  Cliente_ID_9649993  Cliente_ID_0  \n",
       "0                    0.0                 0.0           1.0  \n",
       "1                    0.0                 0.0           1.0  \n",
       "2                    0.0                 0.0           1.0  \n",
       "3                    0.0                 0.0           1.0  \n",
       "4                    0.0                 0.0           1.0  \n",
       "5                    0.0                 0.0           1.0  \n",
       "6                    0.0                 0.0           1.0  \n",
       "7                    0.0                 0.0           1.0  \n",
       "8                    0.0                 0.0           1.0  \n",
       "9                    0.0                 0.0           1.0  \n",
       "10                   0.0                 0.0           1.0  \n",
       "11                   0.0                 0.0           1.0  \n",
       "12                   0.0                 0.0           1.0  \n",
       "13                   0.0                 0.0           1.0  \n",
       "14                   0.0                 0.0           1.0  \n",
       "15                   0.0                 0.0           1.0  \n",
       "16                   0.0                 0.0           1.0  \n",
       "17                   0.0                 0.0           1.0  \n",
       "18                   0.0                 0.0           1.0  \n",
       "19                   0.0                 0.0           1.0  \n",
       "20                   0.0                 0.0           1.0  \n",
       "21                   0.0                 0.0           1.0  \n",
       "22                   0.0                 0.0           1.0  \n",
       "23                   0.0                 0.0           1.0  \n",
       "24                   0.0                 0.0           1.0  \n",
       "25                   0.0                 0.0           1.0  \n",
       "26                   0.0                 0.0           1.0  \n",
       "27                   0.0                 0.0           1.0  \n",
       "28                   0.0                 0.0           1.0  \n",
       "29                   0.0                 0.0           1.0  \n",
       "...                  ...                 ...           ...  \n",
       "1970                 0.0                 0.0           1.0  \n",
       "1971                 0.0                 0.0           1.0  \n",
       "1972                 0.0                 0.0           1.0  \n",
       "1973                 0.0                 0.0           1.0  \n",
       "1974                 0.0                 0.0           1.0  \n",
       "1975                 0.0                 0.0           1.0  \n",
       "1976                 0.0                 0.0           1.0  \n",
       "1977                 0.0                 0.0           1.0  \n",
       "1978                 0.0                 0.0           1.0  \n",
       "1979                 0.0                 0.0           1.0  \n",
       "1980                 0.0                 0.0           1.0  \n",
       "1981                 0.0                 0.0           1.0  \n",
       "1982                 0.0                 0.0           1.0  \n",
       "1983                 0.0                 0.0           1.0  \n",
       "1984                 0.0                 0.0           1.0  \n",
       "1985                 0.0                 0.0           1.0  \n",
       "1986                 0.0                 0.0           1.0  \n",
       "1987                 0.0                 0.0           1.0  \n",
       "1988                 0.0                 0.0           1.0  \n",
       "1989                 0.0                 0.0           1.0  \n",
       "1990                 0.0                 0.0           1.0  \n",
       "1991                 0.0                 0.0           1.0  \n",
       "1992                 0.0                 0.0           1.0  \n",
       "1993                 0.0                 0.0           1.0  \n",
       "1994                 0.0                 0.0           1.0  \n",
       "1995                 0.0                 0.0           1.0  \n",
       "1996                 0.0                 0.0           1.0  \n",
       "1997                 0.0                 0.0           1.0  \n",
       "1998                 0.0                 0.0           1.0  \n",
       "1999                 0.0                 0.0           1.0  \n",
       "\n",
       "[2000 rows x 2263 columns]"
      ]
     },
     "execution_count": 152,
     "metadata": {},
     "output_type": "execute_result"
    }
   ],
   "source": [
    "%time pd.get_dummies(train[categoricals].head(2000),sparse=True,columns=categoricals)"
   ]
  },
  {
   "cell_type": "code",
   "execution_count": 35,
   "metadata": {
    "collapsed": false
   },
   "outputs": [
    {
     "data": {
      "text/plain": [
       "(861,)"
      ]
     },
     "execution_count": 35,
     "metadata": {},
     "output_type": "execute_result"
    }
   ],
   "source": [
    "train['Producto_ID'].cat.categories.shape"
   ]
  },
  {
   "cell_type": "code",
   "execution_count": 36,
   "metadata": {
    "collapsed": true
   },
   "outputs": [],
   "source": [
    "from sklearn.metrics import mean_squared_error"
   ]
  },
  {
   "cell_type": "code",
   "execution_count": 37,
   "metadata": {
    "collapsed": true
   },
   "outputs": [],
   "source": [
    "def rmsle(estimator,X,y_true):\n",
    "    y_pre=estimator.predict(X)\n",
    "    return np.sqrt(mean_squared_error(np.log(y_pre+1),np.log(y_true+1)))\n",
    "    "
   ]
  },
  {
   "cell_type": "code",
   "execution_count": 46,
   "metadata": {
    "collapsed": true
   },
   "outputs": [],
   "source": [
    "ridge=Ridge()"
   ]
  },
  {
   "cell_type": "code",
   "execution_count": 148,
   "metadata": {
    "collapsed": false
   },
   "outputs": [],
   "source": [
    "trainsamp=train.sample(frac=0.2)"
   ]
  },
  {
   "cell_type": "code",
   "execution_count": 86,
   "metadata": {
    "collapsed": true
   },
   "outputs": [],
   "source": [
    "from __future__ import division"
   ]
  },
  {
   "cell_type": "code",
   "execution_count": 88,
   "metadata": {
    "collapsed": true
   },
   "outputs": [],
   "source": [
    "trainsamp.astype?"
   ]
  },
  {
   "cell_type": "code",
   "execution_count": 126,
   "metadata": {
    "collapsed": false
   },
   "outputs": [],
   "source": [
    "def standardize(s):\n",
    "    if s.std()>0.0:\n",
    "        return ((s-s.mean())/s.std())\n",
    "    else:\n",
    "        return s"
   ]
  },
  {
   "cell_type": "code",
   "execution_count": 115,
   "metadata": {
    "collapsed": false
   },
   "outputs": [
    {
     "data": {
      "text/plain": [
       "152078   -0.407396\n",
       "129216    2.454551\n",
       "108882    2.454551\n",
       "184262   -0.407396\n",
       "123589    2.454551\n",
       "76321    -0.407396\n",
       "167028   -0.407396\n",
       "48333    -0.407396\n",
       "29593    -0.407396\n",
       "70339    -0.407396\n",
       "90145    -0.407396\n",
       "127570    2.454551\n",
       "175480   -0.407396\n",
       "52279    -0.407396\n",
       "120726    2.454551\n",
       "37161    -0.407396\n",
       "158557   -0.407396\n",
       "95518    -0.407396\n",
       "177383   -0.407396\n",
       "59740    -0.407396\n",
       "57042    -0.407396\n",
       "43425    -0.407396\n",
       "58597    -0.407396\n",
       "1869     -0.407396\n",
       "77190    -0.407396\n",
       "176505   -0.407396\n",
       "122455    2.454551\n",
       "181384   -0.407396\n",
       "56277    -0.407396\n",
       "28629    -0.407396\n",
       "            ...   \n",
       "147423   -0.407396\n",
       "91649    -0.407396\n",
       "62355    -0.407396\n",
       "29636    -0.407396\n",
       "31150    -0.407396\n",
       "140294   -0.407396\n",
       "37153    -0.407396\n",
       "138119   -0.407396\n",
       "21534    -0.407396\n",
       "30233    -0.407396\n",
       "108383    2.454551\n",
       "184104   -0.407396\n",
       "179992   -0.407396\n",
       "84094    -0.407396\n",
       "120947    2.454551\n",
       "19528    -0.407396\n",
       "77082    -0.407396\n",
       "45144    -0.407396\n",
       "164335   -0.407396\n",
       "175389   -0.407396\n",
       "182293   -0.407396\n",
       "167105   -0.407396\n",
       "177455   -0.407396\n",
       "168867   -0.407396\n",
       "59870    -0.407396\n",
       "47976    -0.407396\n",
       "159386   -0.407396\n",
       "102833   -0.407396\n",
       "54002    -0.407396\n",
       "146473   -0.407396\n",
       "Name: Lunes, dtype: float64\n",
       "BlockIndex\n",
       "Block locations: array([    1,     4,    11, ..., 37085, 37100, 37104], dtype=int32)\n",
       "Block lengths: array([2, 1, 1, ..., 1, 1, 1], dtype=int32)"
      ]
     },
     "execution_count": 115,
     "metadata": {},
     "output_type": "execute_result"
    }
   ],
   "source": [
    "((trainsamp['Lunes']-trainsamp['Lunes'].mean())/trainsamp['Lunes'].std())"
   ]
  },
  {
   "cell_type": "code",
   "execution_count": 82,
   "metadata": {
    "collapsed": true
   },
   "outputs": [],
   "source": [
    "trainsamp.apply?"
   ]
  },
  {
   "cell_type": "code",
   "execution_count": 119,
   "metadata": {
    "collapsed": true
   },
   "outputs": [],
   "source": [
    "Xcols=pd.get_dummies(trainsamp.drop(['Demanda_uni_equil','Semana'],axis=1),sparse=True,columns=categoricals).columns"
   ]
  },
  {
   "cell_type": "code",
   "execution_count": 149,
   "metadata": {
    "collapsed": true
   },
   "outputs": [],
   "source": [
    "X=pd.get_dummies(trainsamp.drop(['Demanda_uni_equil','Semana'],axis=1),sparse=True,columns=categoricals)"
   ]
  },
  {
   "cell_type": "code",
   "execution_count": 133,
   "metadata": {
    "collapsed": false
   },
   "outputs": [
    {
     "data": {
      "text/plain": [
       "'float64:sparse'"
      ]
     },
     "execution_count": 133,
     "metadata": {},
     "output_type": "execute_result"
    }
   ],
   "source": [
    "X['Agencia_ID_1111'].ftype"
   ]
  },
  {
   "cell_type": "code",
   "execution_count": 134,
   "metadata": {
    "collapsed": false
   },
   "outputs": [
    {
     "data": {
      "text/plain": [
       "'bool:dense'"
      ]
     },
     "execution_count": 134,
     "metadata": {},
     "output_type": "execute_result"
    }
   ],
   "source": [
    "X['Lunes'].ftype"
   ]
  },
  {
   "cell_type": "code",
   "execution_count": 132,
   "metadata": {
    "collapsed": false,
    "scrolled": true
   },
   "outputs": [
    {
     "data": {
      "text/plain": [
       "124409   -1.0\n",
       "92557    -1.0\n",
       "20026    -1.0\n",
       "55877    -1.0\n",
       "13763    -1.0\n",
       "24826    -1.0\n",
       "32449    -1.0\n",
       "84859    -1.0\n",
       "159549   -1.0\n",
       "110809   -1.0\n",
       "38962    -1.0\n",
       "95849    -1.0\n",
       "60847    -1.0\n",
       "88420    -1.0\n",
       "165784   -1.0\n",
       "156313   -1.0\n",
       "75178    -1.0\n",
       "74703    -1.0\n",
       "110669   -1.0\n",
       "69060    -1.0\n",
       "128899   -1.0\n",
       "131060   -1.0\n",
       "65977    -1.0\n",
       "151495   -1.0\n",
       "23308    -1.0\n",
       "9066     -1.0\n",
       "122140   -1.0\n",
       "141040   -1.0\n",
       "9106     -1.0\n",
       "121235   -1.0\n",
       "         ... \n",
       "74509    -1.0\n",
       "40676    -1.0\n",
       "46224    -1.0\n",
       "29712    -1.0\n",
       "150323   -1.0\n",
       "150013   -1.0\n",
       "178738   -1.0\n",
       "62187    -1.0\n",
       "89746    -1.0\n",
       "117660   -1.0\n",
       "4115     -1.0\n",
       "104906   -1.0\n",
       "143917   -1.0\n",
       "174892   -1.0\n",
       "121246   -1.0\n",
       "34573    -1.0\n",
       "122782   -1.0\n",
       "4668     -1.0\n",
       "145916   -1.0\n",
       "55202    -1.0\n",
       "38026    -1.0\n",
       "96506    -1.0\n",
       "15767    -1.0\n",
       "20009    -1.0\n",
       "117298   -1.0\n",
       "172657   -1.0\n",
       "86393    -1.0\n",
       "26299    -1.0\n",
       "157343   -1.0\n",
       "59262    -1.0\n",
       "Name: Agencia_ID_1111, dtype: float64\n",
       "IntIndex\n",
       "Indices: array([  60,   62,   83,  161,  207,  422,  426,  556,  620,  630,  689,\n",
       "        738,  831,  918, 1043, 1267, 1331, 1378, 1392, 1395, 1429, 1480,\n",
       "       1553, 1596, 1820, 1853, 2063, 2181, 2222, 2331, 2413, 2501, 2514,\n",
       "       2519, 2627, 2741, 2804, 2829, 2960, 3105, 3219, 3324, 3381, 3383,\n",
       "       3404, 3438, 3494, 3547, 3557, 3585, 3621, 3721, 3729, 3770, 3953,\n",
       "       3960, 3969, 3970, 4069, 4131, 4148, 4159, 4174, 4268, 4367, 4392,\n",
       "       4450, 4462, 4472, 4570, 4597, 4684, 4783, 4837, 4882, 4898, 4950,\n",
       "       4990, 5044, 5080, 5129, 5155, 5165, 5188, 5356, 5418, 5496, 5602,\n",
       "       5634, 5715, 5773, 5803, 5891, 6046, 6066, 6156, 6177, 6234, 6266,\n",
       "       6318, 6411, 6457, 6501, 6506, 6528, 6605, 6709, 6738, 6763, 6769,\n",
       "       6777, 6789, 6946, 7061, 7216, 7231, 7238, 7258, 7267, 7285, 7286,\n",
       "       7370, 7423, 7468, 7534, 7566, 7676, 7787, 7810, 7817, 7964, 7983,\n",
       "       8208, 8211, 8319, 8366, 8443, 8449, 8481, 8512, 8566, 8586, 8728,\n",
       "       8743, 8761, 8767, 8786, 8882, 9182, 9229], dtype=int32)"
      ]
     },
     "execution_count": 132,
     "metadata": {},
     "output_type": "execute_result"
    }
   ],
   "source": [
    "(X['Agencia_ID_1111']-1.0)"
   ]
  },
  {
   "cell_type": "code",
   "execution_count": 150,
   "metadata": {
    "collapsed": false
   },
   "outputs": [
    {
     "data": {
      "text/plain": [
       "Ridge(alpha=1.0, copy_X=True, fit_intercept=True, max_iter=None,\n",
       "   normalize=False, random_state=None, solver='auto', tol=0.001)"
      ]
     },
     "execution_count": 150,
     "metadata": {},
     "output_type": "execute_result"
    }
   ],
   "source": [
    "ridge.fit(X.apply(standardize),trainsamp['Demanda_uni_equil'])"
   ]
  },
  {
   "cell_type": "code",
   "execution_count": 59,
   "metadata": {
    "collapsed": false
   },
   "outputs": [
    {
     "data": {
      "text/plain": [
       "(2292,)"
      ]
     },
     "execution_count": 59,
     "metadata": {},
     "output_type": "execute_result"
    }
   ],
   "source": [
    "Xcols.shape"
   ]
  },
  {
   "cell_type": "code",
   "execution_count": 62,
   "metadata": {
    "collapsed": false
   },
   "outputs": [],
   "source": [
    "coefs=pd.Series({Xcols[i]:ridge.coef_[i] for i in xrange((Xcols).shape[0])})"
   ]
  },
  {
   "cell_type": "code",
   "execution_count": 50,
   "metadata": {
    "collapsed": false
   },
   "outputs": [
    {
     "data": {
      "text/plain": [
       "{3: 6.5055269744160178,\n",
       " 4: 5.531472948870392,\n",
       " 5: 5.6388971462544593,\n",
       " 6: 5.5990181992337167,\n",
       " 7: 13.693311268472906,\n",
       " 8: 5.6972367610837438,\n",
       " 9: 7.4779663626217143}"
      ]
     },
     "execution_count": 50,
     "metadata": {},
     "output_type": "execute_result"
    }
   ],
   "source": [
    "{i:train[train['Semana']==i]['Demanda_uni_equil'].mean() for i in xrange(3,10)}"
   ]
  },
  {
   "cell_type": "code",
   "execution_count": 95,
   "metadata": {
    "collapsed": false
   },
   "outputs": [
    {
     "data": {
      "text/plain": [
       "Semana                  uint8:dense\n",
       "Agencia_ID           category:dense\n",
       "Canal_ID             category:dense\n",
       "Ruta_SAK             category:dense\n",
       "Cliente_ID           category:dense\n",
       "Producto_ID          category:dense\n",
       "Demanda_uni_equil       int64:dense\n",
       "Lunes                   uint8:dense\n",
       "Miercoles-Jueves        uint8:dense\n",
       "dtype: object"
      ]
     },
     "execution_count": 95,
     "metadata": {},
     "output_type": "execute_result"
    }
   ],
   "source": [
    "train.ftypes"
   ]
  },
  {
   "cell_type": "code",
   "execution_count": 101,
   "metadata": {
    "collapsed": false
   },
   "outputs": [
    {
     "data": {
      "text/plain": [
       "(185599,)"
      ]
     },
     "execution_count": 101,
     "metadata": {},
     "output_type": "execute_result"
    }
   ],
   "source": [
    "train['Lunes'].shape"
   ]
  },
  {
   "cell_type": "code",
   "execution_count": 135,
   "metadata": {
    "collapsed": false
   },
   "outputs": [
    {
     "data": {
      "text/plain": [
       "'bool:sparse'"
      ]
     },
     "execution_count": 135,
     "metadata": {},
     "output_type": "execute_result"
    }
   ],
   "source": [
    "train['Lunes'].ftype"
   ]
  },
  {
   "cell_type": "code",
   "execution_count": 140,
   "metadata": {
    "collapsed": false,
    "scrolled": true
   },
   "outputs": [
    {
     "data": {
      "text/plain": [
       "0         0.0\n",
       "1         0.0\n",
       "2         0.0\n",
       "3         0.0\n",
       "4         0.0\n",
       "5         0.0\n",
       "6         0.0\n",
       "7         0.0\n",
       "8         0.0\n",
       "9         0.0\n",
       "10        0.0\n",
       "11        0.0\n",
       "12        0.0\n",
       "13        0.0\n",
       "14        0.0\n",
       "15        0.0\n",
       "16        0.0\n",
       "17        0.0\n",
       "18        0.0\n",
       "19        0.0\n",
       "20        0.0\n",
       "21        0.0\n",
       "22        0.0\n",
       "23        0.0\n",
       "24        0.0\n",
       "25        0.0\n",
       "26        0.0\n",
       "27        0.0\n",
       "28        0.0\n",
       "29        0.0\n",
       "         ... \n",
       "185569    0.0\n",
       "185570    0.0\n",
       "185571    0.0\n",
       "185572    0.0\n",
       "185573    0.0\n",
       "185574    0.0\n",
       "185575    0.0\n",
       "185576    0.0\n",
       "185577    0.0\n",
       "185578    0.0\n",
       "185579    0.0\n",
       "185580    0.0\n",
       "185581    0.0\n",
       "185582    0.0\n",
       "185583    0.0\n",
       "185584    0.0\n",
       "185585    0.0\n",
       "185586    0.0\n",
       "185587    0.0\n",
       "185588    0.0\n",
       "185589    0.0\n",
       "185590    0.0\n",
       "185591    0.0\n",
       "185592    0.0\n",
       "185593    0.0\n",
       "185594    0.0\n",
       "185595    0.0\n",
       "185596    0.0\n",
       "185597    0.0\n",
       "185598    0.0\n",
       "Name: Lunes, dtype: float64\n",
       "BlockIndex\n",
       "Block locations: array([107648], dtype=int32)\n",
       "Block lengths: array([25984], dtype=int32)"
      ]
     },
     "execution_count": 140,
     "metadata": {},
     "output_type": "execute_result"
    }
   ],
   "source": [
    "train['Lunes'].to_sparse(fill_value=np.uint8(0.0))"
   ]
  },
  {
   "cell_type": "code",
   "execution_count": 142,
   "metadata": {
    "collapsed": false
   },
   "outputs": [],
   "source": [
    "train['Lunes']=((train['Semana']==7)).astype(np.int32).to_sparse(fill_value=0.0)"
   ]
  },
  {
   "cell_type": "code",
   "execution_count": 98,
   "metadata": {
    "collapsed": false
   },
   "outputs": [
    {
     "data": {
      "text/plain": [
       "(185599, 9)"
      ]
     },
     "execution_count": 98,
     "metadata": {},
     "output_type": "execute_result"
    }
   ],
   "source": [
    "train.shape"
   ]
  },
  {
   "cell_type": "code",
   "execution_count": 143,
   "metadata": {
    "collapsed": true
   },
   "outputs": [],
   "source": [
    "train['Miercoles-Jueves']=((train['Semana']==3)|(train['Semana']==9)).astype(np.int32).to_sparse(fill_value=0)"
   ]
  },
  {
   "cell_type": "code",
   "execution_count": 67,
   "metadata": {
    "collapsed": true
   },
   "outputs": [
    {
     "data": {
      "text/plain": [
       "<matplotlib.axes._subplots.AxesSubplot at 0x7f1be7e81c10>"
      ]
     },
     "execution_count": 67,
     "metadata": {},
     "output_type": "execute_result"
    }
   ],
   "source": [
    "%matplotlib qt\n",
    "trainsamp.plot(kind='scatter',x='Semana',y='Demanda_uni_equil')\n"
   ]
  },
  {
   "cell_type": "code",
   "execution_count": 87,
   "metadata": {
    "collapsed": false
   },
   "outputs": [
    {
     "data": {
      "text/plain": [
       "-0.079201934163236176"
      ]
     },
     "execution_count": 87,
     "metadata": {},
     "output_type": "execute_result"
    }
   ],
   "source": [
    "coefs['Miercoles-Jueves']"
   ]
  },
  {
   "cell_type": "code",
   "execution_count": 70,
   "metadata": {
    "collapsed": true
   },
   "outputs": [],
   "source": [
    "import re\n",
    "alpha=lambda x: re.sub(r\"[^A-Za-z]+\", '', x)"
   ]
  },
  {
   "cell_type": "code",
   "execution_count": 71,
   "metadata": {
    "collapsed": false
   },
   "outputs": [
    {
     "data": {
      "text/plain": [
       "Agencia_ID_0       AgenciaID\n",
       "Agencia_ID_1111    AgenciaID\n",
       "Agencia_ID_1119    AgenciaID\n",
       "Agencia_ID_1122    AgenciaID\n",
       "Agencia_ID_1124    AgenciaID\n",
       "Agencia_ID_1126    AgenciaID\n",
       "Agencia_ID_1137    AgenciaID\n",
       "Agencia_ID_1212    AgenciaID\n",
       "Agencia_ID_1216    AgenciaID\n",
       "Agencia_ID_1218    AgenciaID\n",
       "Agencia_ID_1220    AgenciaID\n",
       "Agencia_ID_1222    AgenciaID\n",
       "Agencia_ID_1227    AgenciaID\n",
       "Agencia_ID_1232    AgenciaID\n",
       "Agencia_ID_1243    AgenciaID\n",
       "Agencia_ID_1245    AgenciaID\n",
       "Agencia_ID_1311    AgenciaID\n",
       "Agencia_ID_1315    AgenciaID\n",
       "Agencia_ID_1334    AgenciaID\n",
       "Agencia_ID_1335    AgenciaID\n",
       "Agencia_ID_1337    AgenciaID\n",
       "Agencia_ID_1346    AgenciaID\n",
       "Agencia_ID_1378    AgenciaID\n",
       "Agencia_ID_1384    AgenciaID\n",
       "Agencia_ID_1441    AgenciaID\n",
       "Agencia_ID_1445    AgenciaID\n",
       "Agencia_ID_1544    AgenciaID\n",
       "Agencia_ID_1549    AgenciaID\n",
       "Agencia_ID_1550    AgenciaID\n",
       "Agencia_ID_1552    AgenciaID\n",
       "                     ...    \n",
       "Ruta_SAK_2812        RutaSAK\n",
       "Ruta_SAK_2813        RutaSAK\n",
       "Ruta_SAK_2814        RutaSAK\n",
       "Ruta_SAK_2815        RutaSAK\n",
       "Ruta_SAK_2848        RutaSAK\n",
       "Ruta_SAK_2902        RutaSAK\n",
       "Ruta_SAK_2903        RutaSAK\n",
       "Ruta_SAK_3301        RutaSAK\n",
       "Ruta_SAK_3302        RutaSAK\n",
       "Ruta_SAK_3303        RutaSAK\n",
       "Ruta_SAK_3901        RutaSAK\n",
       "Ruta_SAK_3902        RutaSAK\n",
       "Ruta_SAK_4408        RutaSAK\n",
       "Ruta_SAK_4409        RutaSAK\n",
       "Ruta_SAK_4410        RutaSAK\n",
       "Ruta_SAK_4411        RutaSAK\n",
       "Ruta_SAK_4440        RutaSAK\n",
       "Ruta_SAK_4441        RutaSAK\n",
       "Ruta_SAK_4451        RutaSAK\n",
       "Ruta_SAK_4454        RutaSAK\n",
       "Ruta_SAK_4455        RutaSAK\n",
       "Ruta_SAK_4459        RutaSAK\n",
       "Ruta_SAK_4462        RutaSAK\n",
       "Ruta_SAK_4511        RutaSAK\n",
       "Ruta_SAK_4512        RutaSAK\n",
       "Ruta_SAK_4513        RutaSAK\n",
       "Ruta_SAK_4704        RutaSAK\n",
       "Ruta_SAK_4705        RutaSAK\n",
       "Ruta_SAK_6601        RutaSAK\n",
       "Ruta_SAK_900         RutaSAK\n",
       "dtype: object"
      ]
     },
     "execution_count": 71,
     "metadata": {},
     "output_type": "execute_result"
    }
   ],
   "source": [
    "coefs[(coefs>0)].index.to_series().map(alpha)"
   ]
  },
  {
   "cell_type": "code",
   "execution_count": 73,
   "metadata": {
    "collapsed": true
   },
   "outputs": [],
   "source": [
    "coefs=pd.DataFrame(coefs)"
   ]
  },
  {
   "cell_type": "code",
   "execution_count": 74,
   "metadata": {
    "collapsed": true
   },
   "outputs": [],
   "source": [
    "coefs['Feature']=coefs.index.to_series().map(alpha)"
   ]
  },
  {
   "cell_type": "code",
   "execution_count": 80,
   "metadata": {
    "collapsed": false
   },
   "outputs": [
    {
     "name": "stdout",
     "output_type": "stream",
     "text": [
      "('AgenciaID', 0.41450117185856505)\n",
      "('CanalID', 10.510888771921238)\n",
      "('ClienteID', 2.2617387003884066)\n",
      "('Lunes', 2.2134059087896514)\n",
      "('MiercolesJueves', 1.4193153247110655)\n",
      "('ProductoID', 0.30090166300818172)\n",
      "('RutaSAK', 0.95670385171813122)\n"
     ]
    }
   ],
   "source": [
    "for i in coefs['Feature'].unique():\n",
    "    print((i,np.abs(coefs[coefs['Feature']==i][0]).mean()))"
   ]
  },
  {
   "cell_type": "code",
   "execution_count": 72,
   "metadata": {
    "collapsed": false
   },
   "outputs": [
    {
     "data": {
      "text/plain": [
       "Cliente_ID_653378      ClienteID\n",
       "Cliente_ID_653037      ClienteID\n",
       "Cliente_ID_1200400     ClienteID\n",
       "Producto_ID_36610     ProductoID\n",
       "Ruta_SAK_1501            RutaSAK\n",
       "Canal_ID_2               CanalID\n",
       "Producto_ID_2425      ProductoID\n",
       "Cliente_ID_442588      ClienteID\n",
       "Ruta_SAK_4513            RutaSAK\n",
       "Canal_ID_5               CanalID\n",
       "Ruta_SAK_3901            RutaSAK\n",
       "Producto_ID_43206     ProductoID\n",
       "Ruta_SAK_1213            RutaSAK\n",
       "Ruta_SAK_6601            RutaSAK\n",
       "Ruta_SAK_4512            RutaSAK\n",
       "Ruta_SAK_3302            RutaSAK\n",
       "Ruta_SAK_3303            RutaSAK\n",
       "Producto_ID_43207     ProductoID\n",
       "Agencia_ID_1222        AgenciaID\n",
       "Producto_ID_1278      ProductoID\n",
       "Ruta_SAK_1212            RutaSAK\n",
       "Producto_ID_43285     ProductoID\n",
       "Ruta_SAK_1133            RutaSAK\n",
       "Ruta_SAK_1274            RutaSAK\n",
       "Ruta_SAK_1210            RutaSAK\n",
       "Producto_ID_34053     ProductoID\n",
       "Ruta_SAK_1426            RutaSAK\n",
       "Ruta_SAK_1140            RutaSAK\n",
       "Ruta_SAK_4705            RutaSAK\n",
       "Ruta_SAK_3902            RutaSAK\n",
       "                         ...    \n",
       "Agencia_ID_1656        AgenciaID\n",
       "Ruta_SAK_1101            RutaSAK\n",
       "Ruta_SAK_1257            RutaSAK\n",
       "Agencia_ID_2014        AgenciaID\n",
       "Agencia_ID_1126        AgenciaID\n",
       "Ruta_SAK_1069            RutaSAK\n",
       "Agencia_ID_22362       AgenciaID\n",
       "Agencia_ID_2031        AgenciaID\n",
       "Ruta_SAK_1004            RutaSAK\n",
       "Producto_ID_37058     ProductoID\n",
       "Ruta_SAK_2014            RutaSAK\n",
       "Ruta_SAK_2815            RutaSAK\n",
       "Ruta_SAK_2848            RutaSAK\n",
       "Agencia_ID_1441        AgenciaID\n",
       "Ruta_SAK_1160            RutaSAK\n",
       "Ruta_SAK_1245            RutaSAK\n",
       "Ruta_SAK_1634            RutaSAK\n",
       "Ruta_SAK_1476            RutaSAK\n",
       "Ruta_SAK_1652            RutaSAK\n",
       "Agencia_ID_1378        AgenciaID\n",
       "Producto_ID_41843     ProductoID\n",
       "Ruta_SAK_2114            RutaSAK\n",
       "Ruta_SAK_2010            RutaSAK\n",
       "Ruta_SAK_1103            RutaSAK\n",
       "Agencia_ID_4010        AgenciaID\n",
       "Ruta_SAK_1204            RutaSAK\n",
       "Ruta_SAK_1653            RutaSAK\n",
       "Agencia_ID_2213        AgenciaID\n",
       "Ruta_SAK_1430            RutaSAK\n",
       "Producto_ID_1182      ProductoID\n",
       "dtype: object"
      ]
     },
     "execution_count": 72,
     "metadata": {},
     "output_type": "execute_result"
    }
   ],
   "source": [
    "coefs[(coefs>0)].sort_values(ascending=False).index.to_series().map(alpha)"
   ]
  },
  {
   "cell_type": "code",
   "execution_count": 122,
   "metadata": {
    "collapsed": false
   },
   "outputs": [
    {
     "data": {
      "text/plain": [
       "Index([u'Semana', u'Agencia_ID', u'Canal_ID', u'Ruta_SAK', u'Cliente_ID',\n",
       "       u'Producto_ID', u'Venta_uni_hoy', u'Venta_hoy', u'Dev_uni_proxima',\n",
       "       u'Dev_proxima', u'Demanda_uni_equil'],\n",
       "      dtype='object')"
      ]
     },
     "execution_count": 122,
     "metadata": {},
     "output_type": "execute_result"
    }
   ],
   "source": [
    "train.columns"
   ]
  },
  {
   "cell_type": "code",
   "execution_count": 71,
   "metadata": {
    "collapsed": true
   },
   "outputs": [],
   "source": [
    "trainsamp=train.sample(frac=0.15)"
   ]
  },
  {
   "cell_type": "code",
   "execution_count": 121,
   "metadata": {
    "collapsed": true
   },
   "outputs": [],
   "source": [
    "gbr=GradientBoostingRegressor()"
   ]
  },
  {
   "cell_type": "code",
   "execution_count": 164,
   "metadata": {
    "collapsed": false
   },
   "outputs": [
    {
     "name": "stdout",
     "output_type": "stream",
     "text": [
      "CPU times: user 7.69 s, sys: 12 ms, total: 7.7 s\n",
      "Wall time: 7.69 s\n"
     ]
    }
   ],
   "source": [
    "%%time\n",
    "y=train['Demanda_uni_equil']\n",
    "train=pd.get_dummies(train[categoricals],sparse=True,columns=categoricals).join(train['Semana'])"
   ]
  },
  {
   "cell_type": "code",
   "execution_count": 153,
   "metadata": {
    "collapsed": false
   },
   "outputs": [
    {
     "data": {
      "text/plain": [
       "GradientBoostingRegressor(alpha=0.9, init=None, learning_rate=0.1, loss='ls',\n",
       "             max_depth=3, max_features=None, max_leaf_nodes=None,\n",
       "             min_samples_leaf=1, min_samples_split=2,\n",
       "             min_weight_fraction_leaf=0.0, n_estimators=100,\n",
       "             presort='auto', random_state=None, subsample=1.0, verbose=0,\n",
       "             warm_start=False)"
      ]
     },
     "execution_count": 153,
     "metadata": {},
     "output_type": "execute_result"
    }
   ],
   "source": [
    "gbr.fit(pd.get_dummies(trainsamp[categoricals],sparse=True,columns=categoricals).join(trainsamp['Semana']), trainsamp['Demanda_uni_equil'])"
   ]
  },
  {
   "cell_type": "code",
   "execution_count": 166,
   "metadata": {
    "collapsed": false
   },
   "outputs": [
    {
     "data": {
      "text/plain": [
       "(185599, 2292)"
      ]
     },
     "execution_count": 166,
     "metadata": {},
     "output_type": "execute_result"
    }
   ],
   "source": [
    "train.shape"
   ]
  },
  {
   "cell_type": "code",
   "execution_count": null,
   "metadata": {
    "collapsed": false
   },
   "outputs": [],
   "source": [
    "cross_val_score(gbr,trainsamp.drop('Demanda_uni_equil',axis=1),trainsamp.Demanda_uni_equil,scoring=rmsle)"
   ]
  },
  {
   "cell_type": "code",
   "execution_count": 41,
   "metadata": {
    "collapsed": true
   },
   "outputs": [
    {
     "name": "stdout",
     "output_type": "stream",
     "text": [
      "\u001b[0m\u001b[01;31mcliente_tabla.csv.zip\u001b[0m  expfile.csv~            \u001b[01;34mSplitFiles\u001b[0m/   \u001b[01;31mtown_state.csv.zip\u001b[0m\r\n",
      "expfile.csv            \u001b[01;31mproducto_tabla.csv.zip\u001b[0m  \u001b[01;31mtest.csv.zip\u001b[0m  \u001b[01;32mtrain.csv\u001b[0m*\r\n"
     ]
    }
   ],
   "source": [
    "%ls $datapath"
   ]
  },
  {
   "cell_type": "code",
   "execution_count": 42,
   "metadata": {
    "collapsed": true
   },
   "outputs": [],
   "source": [
    "test=pd.read_csv(datapath+'test.csv.zip',nrows=10)"
   ]
  },
  {
   "cell_type": "code",
   "execution_count": 43,
   "metadata": {
    "collapsed": false
   },
   "outputs": [
    {
     "data": {
      "text/plain": [
       "Index([u'id', u'Semana', u'Agencia_ID', u'Canal_ID', u'Ruta_SAK',\n",
       "       u'Cliente_ID', u'Producto_ID'],\n",
       "      dtype='object')"
      ]
     },
     "execution_count": 43,
     "metadata": {},
     "output_type": "execute_result"
    }
   ],
   "source": [
    "test"
   ]
  },
  {
   "cell_type": "code",
   "execution_count": 25,
   "metadata": {
    "collapsed": false
   },
   "outputs": [],
   "source": [
    "features=[u'Semana', u'Agencia_ID', u'Canal_ID', u'Ruta_SAK',\n",
    "       u'Cliente_ID', u'Producto_ID']"
   ]
  },
  {
   "cell_type": "code",
   "execution_count": 46,
   "metadata": {
    "collapsed": false
   },
   "outputs": [
    {
     "data": {
      "text/plain": [
       "Semana                  uint8\n",
       "Agencia_ID           category\n",
       "Canal_ID             category\n",
       "Ruta_SAK             category\n",
       "Cliente_ID           category\n",
       "Producto_ID          category\n",
       "Venta_uni_hoy           int64\n",
       "Venta_hoy             float64\n",
       "Dev_uni_proxima         int64\n",
       "Dev_proxima           float64\n",
       "Demanda_uni_equil       int64\n",
       "dtype: object"
      ]
     },
     "execution_count": 46,
     "metadata": {},
     "output_type": "execute_result"
    }
   ],
   "source": [
    "train.dtypes"
   ]
  },
  {
   "cell_type": "code",
   "execution_count": null,
   "metadata": {
    "collapsed": false
   },
   "outputs": [],
   "source": [
    "pd.get_dummies(train[features].head(),sparse=True)"
   ]
  },
  {
   "cell_type": "code",
   "execution_count": null,
   "metadata": {
    "collapsed": true
   },
   "outputs": [],
   "source": [
    "gbr.fit()"
   ]
  }
 ],
 "metadata": {
  "kernelspec": {
   "display_name": "Python 2",
   "language": "python",
   "name": "python2"
  },
  "language_info": {
   "codemirror_mode": {
    "name": "ipython",
    "version": 2
   },
   "file_extension": ".py",
   "mimetype": "text/x-python",
   "name": "python",
   "nbconvert_exporter": "python",
   "pygments_lexer": "ipython2",
   "version": "2.7.6"
  }
 },
 "nbformat": 4,
 "nbformat_minor": 0
}
