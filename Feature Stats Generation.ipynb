{
 "cells": [
  {
   "cell_type": "code",
   "execution_count": 1,
   "metadata": {
    "collapsed": true
   },
   "outputs": [],
   "source": [
    "import numpy as np\n",
    "import pandas as pd\n",
    "from math import ceil\n",
    "import pickle\n",
    "with open('datapath.txt') as f:\n",
    "    datapath=f.readlines()[0].rstrip()"
   ]
  },
  {
   "cell_type": "code",
   "execution_count": 3,
   "metadata": {
    "collapsed": false
   },
   "outputs": [
    {
     "name": "stdout",
     "output_type": "stream",
     "text": [
      "\u001b[0m\u001b[01;31mcliente_tabla.csv.zip\u001b[0m   \u001b[01;31mtest.csv.zip\u001b[0m        \u001b[01;32mtrain.csv\u001b[0m*\r\n",
      "\u001b[01;31mproducto_tabla.csv.zip\u001b[0m  \u001b[01;31mtown_state.csv.zip\u001b[0m  \u001b[01;31mtrain.csv.zip\u001b[0m\r\n"
     ]
    }
   ],
   "source": [
    "%ls $datapath"
   ]
  },
  {
   "cell_type": "code",
   "execution_count": 2,
   "metadata": {
    "collapsed": true
   },
   "outputs": [],
   "source": [
    "train=pd.read_csv(datapath+'train.csv',nrows=10,parse_dates=False)"
   ]
  },
  {
   "cell_type": "code",
   "execution_count": 3,
   "metadata": {
    "collapsed": false
   },
   "outputs": [
    {
     "data": {
      "text/plain": [
       "{'Agencia_ID': dtype('int64'),\n",
       " 'Canal_ID': dtype('int64'),\n",
       " 'Cliente_ID': dtype('int64'),\n",
       " 'Demanda_uni_equil': dtype('int64'),\n",
       " 'Dev_proxima': dtype('float64'),\n",
       " 'Dev_uni_proxima': dtype('int64'),\n",
       " 'Producto_ID': dtype('int64'),\n",
       " 'Ruta_SAK': dtype('int64'),\n",
       " 'Semana': numpy.uint8,\n",
       " 'Venta_hoy': dtype('float64'),\n",
       " 'Venta_uni_hoy': dtype('int64')}"
      ]
     },
     "execution_count": 3,
     "metadata": {},
     "output_type": "execute_result"
    }
   ],
   "source": [
    "dtypes=train.dtypes.to_dict()\n",
    "dtypes['Semana']=np.uint8\n",
    "dtypes"
   ]
  },
  {
   "cell_type": "code",
   "execution_count": 4,
   "metadata": {
    "collapsed": false
   },
   "outputs": [],
   "source": [
    "yname='Demanda_uni_equil'"
   ]
  },
  {
   "cell_type": "code",
   "execution_count": 5,
   "metadata": {
    "collapsed": true
   },
   "outputs": [],
   "source": [
    "categoricals='Agencia_ID Canal_ID Ruta_SAK Cliente_ID Producto_ID'.split()"
   ]
  },
  {
   "cell_type": "code",
   "execution_count": 5,
   "metadata": {
    "collapsed": true
   },
   "outputs": [],
   "source": [
    "def addcounts(cnt,cnk,stcol):\n",
    "    newcnt=[df_counts(cnk,stcol[i]) for i in xrange(len(stcol))]\n",
    "    return [cnt[i].add(newcnt[i],axis='index',fill_value=0.0) for i in xrange(len(stcol))]"
   ]
  },
  {
   "cell_type": "code",
   "execution_count": 6,
   "metadata": {
    "collapsed": true
   },
   "outputs": [],
   "source": [
    "def df_counts(df,column):\n",
    "    return df.groupby(column).size()"
   ]
  },
  {
   "cell_type": "code",
   "execution_count": 8,
   "metadata": {
    "collapsed": true
   },
   "outputs": [],
   "source": [
    "statcolumns='Agencia_ID Canal_ID Ruta_SAK Producto_ID Semana'.split()"
   ]
  },
  {
   "cell_type": "code",
   "execution_count": 9,
   "metadata": {
    "collapsed": true
   },
   "outputs": [],
   "source": [
    "numcolumns='Venta_uni_hoy Venta_hoy Dev_uni_proxima Dev_proxima Demanda_uni_equil'.split()"
   ]
  },
  {
   "cell_type": "code",
   "execution_count": 7,
   "metadata": {
    "collapsed": true
   },
   "outputs": [],
   "source": [
    "def add_stats(one,two):\n",
    "    df=pd.DataFrame(columns=one.columns)\n",
    "    df.loc['count']=one.loc['count']+two.loc['count']\n",
    "    df.loc['mean']=(one.loc['count']*one.loc['mean'] + two.loc['count']*two.loc['mean'])/df.loc['count']\n",
    "    df.loc['max']=np.maximum(one.loc['max'],two.loc['max'])\n",
    "    df.loc['min']=np.minimum(one.loc['min'],two.loc['min'])\n",
    "    return df\n",
    "    "
   ]
  },
  {
   "cell_type": "code",
   "execution_count": 11,
   "metadata": {
    "collapsed": true
   },
   "outputs": [],
   "source": [
    "chunksz=100000\n",
    "trainit=pd.read_csv(datapath+'train.csv',chunksize=chunksz,iterator=True,dtype=dtypes,parse_dates=False)"
   ]
  },
  {
   "cell_type": "code",
   "execution_count": 12,
   "metadata": {
    "collapsed": true
   },
   "outputs": [],
   "source": [
    "stats='count mean max min'.split()"
   ]
  },
  {
   "cell_type": "code",
   "execution_count": 13,
   "metadata": {
    "collapsed": false
   },
   "outputs": [
    {
     "name": "stdout",
     "output_type": "stream",
     "text": [
      "0\n",
      "[3, 4, 151, 287, 1]\n",
      "100\n",
      "[499, 9, 2744, 1546, 1]\n",
      "200\n",
      "[552, 9, 3013, 1625, 2]\n",
      "300\n",
      "[552, 9, 3249, 1663, 3]\n",
      "400\n",
      "[552, 9, 3413, 1698, 4]\n",
      "500\n",
      "[552, 9, 3487, 1730, 5]\n",
      "600\n",
      "[552, 9, 3554, 1753, 6]\n",
      "700\n",
      "[552, 9, 3599, 1782, 7]\n"
     ]
    }
   ],
   "source": [
    "#%%time\n",
    "ichunk=0\n",
    "for chunk in trainit:\n",
    "    if ichunk==0:\n",
    "        fullcount=[df_counts(chunk,col) for col in statcolumns]\n",
    "        floatstats=chunk[numcolumns].describe().loc[stats]\n",
    "        #sample=chunk.sample(frac=samplerate)\n",
    "    else:\n",
    "        fullcount=addcounts(fullcount,chunk,statcolumns)\n",
    "        floatstats=add_stats(floatstats,chunk[numcolumns].describe().loc[stats])\n",
    "    if ichunk % 100 == 0:\n",
    "        print(ichunk)\n",
    "        print map(lambda x: x.shape[0], fullcount)\n",
    "    ichunk+=1"
   ]
  },
  {
   "cell_type": "code",
   "execution_count": 17,
   "metadata": {
    "collapsed": false
   },
   "outputs": [],
   "source": [
    "with open('catcount.pkl','w') as f:\n",
    "    pickle.dump((floatstats,fullcount), f)"
   ]
  },
  {
   "cell_type": "code",
   "execution_count": 5,
   "metadata": {
    "collapsed": false
   },
   "outputs": [
    {
     "name": "stdout",
     "output_type": "stream",
     "text": [
      "catcount.pkl          Cliente_ID_stats.py  Feature Stats Generation.ipynb\r\n",
      "Cliente_ID_Stats.pkl  datapath.txt\r\n"
     ]
    }
   ],
   "source": [
    "%ls"
   ]
  },
  {
   "cell_type": "markdown",
   "metadata": {},
   "source": [
    "I don't seem to have enough memory for `Cliente_ID`, so I had to run it from a raw python script, which I called `Cliente_ID_stats.py`. The results are saved in `Cliente_ID_Stats.pkl`."
   ]
  }
 ],
 "metadata": {
  "kernelspec": {
   "display_name": "Python 2",
   "language": "python",
   "name": "python2"
  },
  "language_info": {
   "codemirror_mode": {
    "name": "ipython",
    "version": 2
   },
   "file_extension": ".py",
   "mimetype": "text/x-python",
   "name": "python",
   "nbconvert_exporter": "python",
   "pygments_lexer": "ipython2",
   "version": "2.7.6"
  }
 },
 "nbformat": 4,
 "nbformat_minor": 0
}
