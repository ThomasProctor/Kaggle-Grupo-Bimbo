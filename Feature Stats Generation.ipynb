{
 "cells": [
  {
   "cell_type": "code",
   "execution_count": 2,
   "metadata": {
    "collapsed": true
   },
   "outputs": [],
   "source": [
    "import numpy as np\n",
    "import pandas as pd\n",
    "from math import ceil\n",
    "import pickle\n",
    "with open('datapath.txt') as f:\n",
    "    datapath=f.readlines()[0].rstrip()"
   ]
  },
  {
   "cell_type": "code",
   "execution_count": 3,
   "metadata": {
    "collapsed": false
   },
   "outputs": [
    {
     "name": "stdout",
     "output_type": "stream",
     "text": [
      "\u001b[0m\u001b[01;31mcliente_tabla.csv.zip\u001b[0m  expfile.csv~            \u001b[01;34mSplitFiles\u001b[0m/   \u001b[01;31mtown_state.csv.zip\u001b[0m\r\n",
      "expfile.csv            \u001b[01;31mproducto_tabla.csv.zip\u001b[0m  \u001b[01;31mtest.csv.zip\u001b[0m  \u001b[01;32mtrain.csv\u001b[0m*\r\n"
     ]
    }
   ],
   "source": [
    "%ls $datapath"
   ]
  },
  {
   "cell_type": "code",
   "execution_count": 4,
   "metadata": {
    "collapsed": true
   },
   "outputs": [],
   "source": [
    "train=pd.read_csv(datapath+'train.csv',nrows=10,parse_dates=False)"
   ]
  },
  {
   "cell_type": "code",
   "execution_count": 5,
   "metadata": {
    "collapsed": false
   },
   "outputs": [
    {
     "data": {
      "text/plain": [
       "{'Agencia_ID': dtype('int64'),\n",
       " 'Canal_ID': dtype('int64'),\n",
       " 'Cliente_ID': dtype('int64'),\n",
       " 'Demanda_uni_equil': dtype('int64'),\n",
       " 'Dev_proxima': dtype('float64'),\n",
       " 'Dev_uni_proxima': dtype('int64'),\n",
       " 'Producto_ID': dtype('int64'),\n",
       " 'Ruta_SAK': dtype('int64'),\n",
       " 'Semana': numpy.uint8,\n",
       " 'Venta_hoy': dtype('float64'),\n",
       " 'Venta_uni_hoy': dtype('int64')}"
      ]
     },
     "execution_count": 5,
     "metadata": {},
     "output_type": "execute_result"
    }
   ],
   "source": [
    "dtypes=train.dtypes.to_dict()\n",
    "dtypes['Semana']=np.uint8\n",
    "dtypes"
   ]
  },
  {
   "cell_type": "code",
   "execution_count": 6,
   "metadata": {
    "collapsed": false
   },
   "outputs": [],
   "source": [
    "yname='Demanda_uni_equil'"
   ]
  },
  {
   "cell_type": "code",
   "execution_count": 7,
   "metadata": {
    "collapsed": true
   },
   "outputs": [],
   "source": [
    "categoricals='Agencia_ID Canal_ID Ruta_SAK Cliente_ID Producto_ID'.split()"
   ]
  },
  {
   "cell_type": "code",
   "execution_count": 5,
   "metadata": {
    "collapsed": true
   },
   "outputs": [],
   "source": [
    "def addcounts(cnt,cnk,stcol):\n",
    "    newcnt=[df_counts(cnk,stcol[i]) for i in xrange(len(stcol))]\n",
    "    return [cnt[i].add(newcnt[i],axis='index',fill_value=0.0) for i in xrange(len(stcol))]"
   ]
  },
  {
   "cell_type": "code",
   "execution_count": 6,
   "metadata": {
    "collapsed": true
   },
   "outputs": [],
   "source": [
    "def df_counts(df,column):\n",
    "    return df.groupby(column).size()"
   ]
  },
  {
   "cell_type": "code",
   "execution_count": 11,
   "metadata": {
    "collapsed": true
   },
   "outputs": [],
   "source": [
    "def s_stats(s):\n",
    "    s=s['Demanda_uni_equil']\n",
    "    ser=pd.Series()\n",
    "    ser['count']=s.count()\n",
    "    ser['sum']=s.sum()\n",
    "    ser['sqsum']=(s**2).sum()\n",
    "    return ser"
   ]
  },
  {
   "cell_type": "code",
   "execution_count": 8,
   "metadata": {
    "collapsed": true
   },
   "outputs": [],
   "source": [
    "statcolumns='Agencia_ID Canal_ID Ruta_SAK Producto_ID Semana'.split()"
   ]
  },
  {
   "cell_type": "code",
   "execution_count": 9,
   "metadata": {
    "collapsed": true
   },
   "outputs": [],
   "source": [
    "numcolumns='Venta_uni_hoy Venta_hoy Dev_uni_proxima Dev_proxima Demanda_uni_equil'.split()"
   ]
  },
  {
   "cell_type": "code",
   "execution_count": 7,
   "metadata": {
    "collapsed": true
   },
   "outputs": [],
   "source": [
    "def add_stats(one,two):\n",
    "    df=pd.DataFrame(columns=one.columns)\n",
    "    df.loc['count']=one.loc['count']+two.loc['count']\n",
    "    df.loc['sum']=(one.loc['sum'] + two.loc['sum'])\n",
    "    df.loc['sqsum']=(one.loc['squm'])\n",
    "    return df\n",
    "    "
   ]
  },
  {
   "cell_type": "code",
   "execution_count": 10,
   "metadata": {
    "collapsed": false
   },
   "outputs": [],
   "source": [
    "chunksz=100000\n",
    "chunk=pd.read_csv(datapath+'train.csv',nrows=chunksz,dtype=dtypes,parse_dates=False,usecols='Cliente_ID Demanda_uni_equil'.split())"
   ]
  },
  {
   "cell_type": "code",
   "execution_count": 12,
   "metadata": {
    "collapsed": false
   },
   "outputs": [
    {
     "data": {
      "text/html": [
       "<div>\n",
       "<table border=\"1\" class=\"dataframe\">\n",
       "  <thead>\n",
       "    <tr style=\"text-align: right;\">\n",
       "      <th></th>\n",
       "      <th>count</th>\n",
       "      <th>sum</th>\n",
       "      <th>sqsum</th>\n",
       "    </tr>\n",
       "    <tr>\n",
       "      <th>Cliente_ID</th>\n",
       "      <th></th>\n",
       "      <th></th>\n",
       "      <th></th>\n",
       "    </tr>\n",
       "  </thead>\n",
       "  <tbody>\n",
       "    <tr>\n",
       "      <th>14075</th>\n",
       "      <td>68</td>\n",
       "      <td>446</td>\n",
       "      <td>5958</td>\n",
       "    </tr>\n",
       "    <tr>\n",
       "      <th>14077</th>\n",
       "      <td>6</td>\n",
       "      <td>10</td>\n",
       "      <td>20</td>\n",
       "    </tr>\n",
       "    <tr>\n",
       "      <th>15766</th>\n",
       "      <td>23</td>\n",
       "      <td>131</td>\n",
       "      <td>917</td>\n",
       "    </tr>\n",
       "    <tr>\n",
       "      <th>16119</th>\n",
       "      <td>4</td>\n",
       "      <td>68</td>\n",
       "      <td>1350</td>\n",
       "    </tr>\n",
       "    <tr>\n",
       "      <th>16127</th>\n",
       "      <td>1</td>\n",
       "      <td>1</td>\n",
       "      <td>1</td>\n",
       "    </tr>\n",
       "    <tr>\n",
       "      <th>16505</th>\n",
       "      <td>8</td>\n",
       "      <td>25</td>\n",
       "      <td>85</td>\n",
       "    </tr>\n",
       "    <tr>\n",
       "      <th>16509</th>\n",
       "      <td>6</td>\n",
       "      <td>12</td>\n",
       "      <td>32</td>\n",
       "    </tr>\n",
       "    <tr>\n",
       "      <th>16755</th>\n",
       "      <td>8</td>\n",
       "      <td>69</td>\n",
       "      <td>955</td>\n",
       "    </tr>\n",
       "    <tr>\n",
       "      <th>17146</th>\n",
       "      <td>3</td>\n",
       "      <td>22</td>\n",
       "      <td>250</td>\n",
       "    </tr>\n",
       "    <tr>\n",
       "      <th>17175</th>\n",
       "      <td>6</td>\n",
       "      <td>12</td>\n",
       "      <td>32</td>\n",
       "    </tr>\n",
       "    <tr>\n",
       "      <th>17220</th>\n",
       "      <td>6</td>\n",
       "      <td>27</td>\n",
       "      <td>129</td>\n",
       "    </tr>\n",
       "    <tr>\n",
       "      <th>17227</th>\n",
       "      <td>8</td>\n",
       "      <td>20</td>\n",
       "      <td>54</td>\n",
       "    </tr>\n",
       "    <tr>\n",
       "      <th>17252</th>\n",
       "      <td>4</td>\n",
       "      <td>29</td>\n",
       "      <td>475</td>\n",
       "    </tr>\n",
       "    <tr>\n",
       "      <th>18168</th>\n",
       "      <td>7</td>\n",
       "      <td>23</td>\n",
       "      <td>89</td>\n",
       "    </tr>\n",
       "    <tr>\n",
       "      <th>18226</th>\n",
       "      <td>8</td>\n",
       "      <td>55</td>\n",
       "      <td>425</td>\n",
       "    </tr>\n",
       "    <tr>\n",
       "      <th>18229</th>\n",
       "      <td>2</td>\n",
       "      <td>9</td>\n",
       "      <td>45</td>\n",
       "    </tr>\n",
       "    <tr>\n",
       "      <th>18280</th>\n",
       "      <td>2</td>\n",
       "      <td>20</td>\n",
       "      <td>200</td>\n",
       "    </tr>\n",
       "    <tr>\n",
       "      <th>18361</th>\n",
       "      <td>15</td>\n",
       "      <td>927</td>\n",
       "      <td>106573</td>\n",
       "    </tr>\n",
       "    <tr>\n",
       "      <th>18489</th>\n",
       "      <td>3</td>\n",
       "      <td>45</td>\n",
       "      <td>963</td>\n",
       "    </tr>\n",
       "    <tr>\n",
       "      <th>18641</th>\n",
       "      <td>26</td>\n",
       "      <td>454</td>\n",
       "      <td>10986</td>\n",
       "    </tr>\n",
       "    <tr>\n",
       "      <th>18915</th>\n",
       "      <td>2</td>\n",
       "      <td>2</td>\n",
       "      <td>2</td>\n",
       "    </tr>\n",
       "    <tr>\n",
       "      <th>19013</th>\n",
       "      <td>11</td>\n",
       "      <td>62</td>\n",
       "      <td>594</td>\n",
       "    </tr>\n",
       "    <tr>\n",
       "      <th>19471</th>\n",
       "      <td>30</td>\n",
       "      <td>259</td>\n",
       "      <td>3683</td>\n",
       "    </tr>\n",
       "    <tr>\n",
       "      <th>20334</th>\n",
       "      <td>4</td>\n",
       "      <td>115</td>\n",
       "      <td>4529</td>\n",
       "    </tr>\n",
       "    <tr>\n",
       "      <th>20357</th>\n",
       "      <td>23</td>\n",
       "      <td>73</td>\n",
       "      <td>355</td>\n",
       "    </tr>\n",
       "    <tr>\n",
       "      <th>20358</th>\n",
       "      <td>49</td>\n",
       "      <td>393</td>\n",
       "      <td>4561</td>\n",
       "    </tr>\n",
       "    <tr>\n",
       "      <th>20364</th>\n",
       "      <td>47</td>\n",
       "      <td>211</td>\n",
       "      <td>1597</td>\n",
       "    </tr>\n",
       "    <tr>\n",
       "      <th>20520</th>\n",
       "      <td>34</td>\n",
       "      <td>254</td>\n",
       "      <td>3490</td>\n",
       "    </tr>\n",
       "    <tr>\n",
       "      <th>20709</th>\n",
       "      <td>3</td>\n",
       "      <td>15</td>\n",
       "      <td>89</td>\n",
       "    </tr>\n",
       "    <tr>\n",
       "      <th>20711</th>\n",
       "      <td>41</td>\n",
       "      <td>218</td>\n",
       "      <td>1980</td>\n",
       "    </tr>\n",
       "    <tr>\n",
       "      <th>...</th>\n",
       "      <td>...</td>\n",
       "      <td>...</td>\n",
       "      <td>...</td>\n",
       "    </tr>\n",
       "    <tr>\n",
       "      <th>4709865</th>\n",
       "      <td>1</td>\n",
       "      <td>5</td>\n",
       "      <td>25</td>\n",
       "    </tr>\n",
       "    <tr>\n",
       "      <th>4709867</th>\n",
       "      <td>2</td>\n",
       "      <td>18</td>\n",
       "      <td>162</td>\n",
       "    </tr>\n",
       "    <tr>\n",
       "      <th>4710396</th>\n",
       "      <td>2</td>\n",
       "      <td>5</td>\n",
       "      <td>13</td>\n",
       "    </tr>\n",
       "    <tr>\n",
       "      <th>4710557</th>\n",
       "      <td>1</td>\n",
       "      <td>1</td>\n",
       "      <td>1</td>\n",
       "    </tr>\n",
       "    <tr>\n",
       "      <th>4710562</th>\n",
       "      <td>1</td>\n",
       "      <td>1</td>\n",
       "      <td>1</td>\n",
       "    </tr>\n",
       "    <tr>\n",
       "      <th>4711428</th>\n",
       "      <td>5</td>\n",
       "      <td>47</td>\n",
       "      <td>1469</td>\n",
       "    </tr>\n",
       "    <tr>\n",
       "      <th>4713052</th>\n",
       "      <td>1</td>\n",
       "      <td>2</td>\n",
       "      <td>4</td>\n",
       "    </tr>\n",
       "    <tr>\n",
       "      <th>4717885</th>\n",
       "      <td>1</td>\n",
       "      <td>8</td>\n",
       "      <td>64</td>\n",
       "    </tr>\n",
       "    <tr>\n",
       "      <th>4721648</th>\n",
       "      <td>26</td>\n",
       "      <td>81</td>\n",
       "      <td>421</td>\n",
       "    </tr>\n",
       "    <tr>\n",
       "      <th>4722014</th>\n",
       "      <td>2</td>\n",
       "      <td>5</td>\n",
       "      <td>17</td>\n",
       "    </tr>\n",
       "    <tr>\n",
       "      <th>4722272</th>\n",
       "      <td>15</td>\n",
       "      <td>39</td>\n",
       "      <td>119</td>\n",
       "    </tr>\n",
       "    <tr>\n",
       "      <th>4722281</th>\n",
       "      <td>13</td>\n",
       "      <td>82</td>\n",
       "      <td>630</td>\n",
       "    </tr>\n",
       "    <tr>\n",
       "      <th>8674794</th>\n",
       "      <td>21</td>\n",
       "      <td>235</td>\n",
       "      <td>3353</td>\n",
       "    </tr>\n",
       "    <tr>\n",
       "      <th>8674866</th>\n",
       "      <td>11</td>\n",
       "      <td>52</td>\n",
       "      <td>328</td>\n",
       "    </tr>\n",
       "    <tr>\n",
       "      <th>8923015</th>\n",
       "      <td>4</td>\n",
       "      <td>101</td>\n",
       "      <td>6013</td>\n",
       "    </tr>\n",
       "    <tr>\n",
       "      <th>9090376</th>\n",
       "      <td>49</td>\n",
       "      <td>244</td>\n",
       "      <td>1882</td>\n",
       "    </tr>\n",
       "    <tr>\n",
       "      <th>9503385</th>\n",
       "      <td>15</td>\n",
       "      <td>50</td>\n",
       "      <td>322</td>\n",
       "    </tr>\n",
       "    <tr>\n",
       "      <th>9503711</th>\n",
       "      <td>7</td>\n",
       "      <td>21</td>\n",
       "      <td>77</td>\n",
       "    </tr>\n",
       "    <tr>\n",
       "      <th>9519666</th>\n",
       "      <td>59</td>\n",
       "      <td>365</td>\n",
       "      <td>4381</td>\n",
       "    </tr>\n",
       "    <tr>\n",
       "      <th>9529561</th>\n",
       "      <td>66</td>\n",
       "      <td>517</td>\n",
       "      <td>11891</td>\n",
       "    </tr>\n",
       "    <tr>\n",
       "      <th>9529781</th>\n",
       "      <td>2</td>\n",
       "      <td>11</td>\n",
       "      <td>73</td>\n",
       "    </tr>\n",
       "    <tr>\n",
       "      <th>9619312</th>\n",
       "      <td>3</td>\n",
       "      <td>22</td>\n",
       "      <td>282</td>\n",
       "    </tr>\n",
       "    <tr>\n",
       "      <th>9623503</th>\n",
       "      <td>5</td>\n",
       "      <td>48</td>\n",
       "      <td>760</td>\n",
       "    </tr>\n",
       "    <tr>\n",
       "      <th>9623907</th>\n",
       "      <td>40</td>\n",
       "      <td>402</td>\n",
       "      <td>7388</td>\n",
       "    </tr>\n",
       "    <tr>\n",
       "      <th>9636208</th>\n",
       "      <td>10</td>\n",
       "      <td>16</td>\n",
       "      <td>34</td>\n",
       "    </tr>\n",
       "    <tr>\n",
       "      <th>9637989</th>\n",
       "      <td>7</td>\n",
       "      <td>49</td>\n",
       "      <td>663</td>\n",
       "    </tr>\n",
       "    <tr>\n",
       "      <th>9678222</th>\n",
       "      <td>14</td>\n",
       "      <td>53</td>\n",
       "      <td>243</td>\n",
       "    </tr>\n",
       "    <tr>\n",
       "      <th>9741518</th>\n",
       "      <td>10</td>\n",
       "      <td>45</td>\n",
       "      <td>263</td>\n",
       "    </tr>\n",
       "    <tr>\n",
       "      <th>9741696</th>\n",
       "      <td>19</td>\n",
       "      <td>72</td>\n",
       "      <td>406</td>\n",
       "    </tr>\n",
       "    <tr>\n",
       "      <th>9747286</th>\n",
       "      <td>5</td>\n",
       "      <td>8</td>\n",
       "      <td>16</td>\n",
       "    </tr>\n",
       "  </tbody>\n",
       "</table>\n",
       "<p>5835 rows × 3 columns</p>\n",
       "</div>"
      ],
      "text/plain": [
       "            count  sum   sqsum\n",
       "Cliente_ID                    \n",
       "14075          68  446    5958\n",
       "14077           6   10      20\n",
       "15766          23  131     917\n",
       "16119           4   68    1350\n",
       "16127           1    1       1\n",
       "16505           8   25      85\n",
       "16509           6   12      32\n",
       "16755           8   69     955\n",
       "17146           3   22     250\n",
       "17175           6   12      32\n",
       "17220           6   27     129\n",
       "17227           8   20      54\n",
       "17252           4   29     475\n",
       "18168           7   23      89\n",
       "18226           8   55     425\n",
       "18229           2    9      45\n",
       "18280           2   20     200\n",
       "18361          15  927  106573\n",
       "18489           3   45     963\n",
       "18641          26  454   10986\n",
       "18915           2    2       2\n",
       "19013          11   62     594\n",
       "19471          30  259    3683\n",
       "20334           4  115    4529\n",
       "20357          23   73     355\n",
       "20358          49  393    4561\n",
       "20364          47  211    1597\n",
       "20520          34  254    3490\n",
       "20709           3   15      89\n",
       "20711          41  218    1980\n",
       "...           ...  ...     ...\n",
       "4709865         1    5      25\n",
       "4709867         2   18     162\n",
       "4710396         2    5      13\n",
       "4710557         1    1       1\n",
       "4710562         1    1       1\n",
       "4711428         5   47    1469\n",
       "4713052         1    2       4\n",
       "4717885         1    8      64\n",
       "4721648        26   81     421\n",
       "4722014         2    5      17\n",
       "4722272        15   39     119\n",
       "4722281        13   82     630\n",
       "8674794        21  235    3353\n",
       "8674866        11   52     328\n",
       "8923015         4  101    6013\n",
       "9090376        49  244    1882\n",
       "9503385        15   50     322\n",
       "9503711         7   21      77\n",
       "9519666        59  365    4381\n",
       "9529561        66  517   11891\n",
       "9529781         2   11      73\n",
       "9619312         3   22     282\n",
       "9623503         5   48     760\n",
       "9623907        40  402    7388\n",
       "9636208        10   16      34\n",
       "9637989         7   49     663\n",
       "9678222        14   53     243\n",
       "9741518        10   45     263\n",
       "9741696        19   72     406\n",
       "9747286         5    8      16\n",
       "\n",
       "[5835 rows x 3 columns]"
      ]
     },
     "execution_count": 12,
     "metadata": {},
     "output_type": "execute_result"
    }
   ],
   "source": [
    "chunk.groupby('Cliente_ID').apply(s_stats)"
   ]
  },
  {
   "cell_type": "code",
   "execution_count": 11,
   "metadata": {
    "collapsed": true
   },
   "outputs": [],
   "source": [
    "chunksz=100000\n",
    "trainit=pd.read_csv(datapath+'train.csv',chunksize=chunksz,iterator=True,dtype=dtypes,parse_dates=False,usecols='Cliente_ID Demanda_uni_equil'.split())"
   ]
  },
  {
   "cell_type": "code",
   "execution_count": 12,
   "metadata": {
    "collapsed": true
   },
   "outputs": [],
   "source": [
    "stats='count mean max min'.split()"
   ]
  },
  {
   "cell_type": "code",
   "execution_count": 13,
   "metadata": {
    "collapsed": false
   },
   "outputs": [
    {
     "name": "stdout",
     "output_type": "stream",
     "text": [
      "0\n",
      "[3, 4, 151, 287, 1]\n",
      "100\n",
      "[499, 9, 2744, 1546, 1]\n",
      "200\n",
      "[552, 9, 3013, 1625, 2]\n",
      "300\n",
      "[552, 9, 3249, 1663, 3]\n",
      "400\n",
      "[552, 9, 3413, 1698, 4]\n",
      "500\n",
      "[552, 9, 3487, 1730, 5]\n",
      "600\n",
      "[552, 9, 3554, 1753, 6]\n",
      "700\n",
      "[552, 9, 3599, 1782, 7]\n"
     ]
    }
   ],
   "source": [
    "#%%time\n",
    "ichunk=0\n",
    "for chunk in trainit:\n",
    "    if ichunk==0:\n",
    "        fullcount=[df_counts(chunk,col) for col in statcolumns]\n",
    "        floatstats=chunk[numcolumns].describe().loc[stats]\n",
    "        #sample=chunk.sample(frac=samplerate)\n",
    "    else:\n",
    "        fullcount=addcounts(fullcount,chunk,statcolumns)\n",
    "        floatstats=add_stats(floatstats,chunk[numcolumns].describe().loc[stats])\n",
    "    if ichunk % 100 == 0:\n",
    "        print(ichunk)\n",
    "        print map(lambda x: x.shape[0], fullcount)\n",
    "    ichunk+=1"
   ]
  },
  {
   "cell_type": "code",
   "execution_count": 17,
   "metadata": {
    "collapsed": false
   },
   "outputs": [],
   "source": [
    "with open('catcount.pkl','w') as f:\n",
    "    pickle.dump((floatstats,fullcount), f)"
   ]
  },
  {
   "cell_type": "code",
   "execution_count": 5,
   "metadata": {
    "collapsed": false
   },
   "outputs": [
    {
     "name": "stdout",
     "output_type": "stream",
     "text": [
      "catcount.pkl          Cliente_ID_stats.py  Feature Stats Generation.ipynb\r\n",
      "Cliente_ID_Stats.pkl  datapath.txt\r\n"
     ]
    }
   ],
   "source": [
    "%ls"
   ]
  },
  {
   "cell_type": "markdown",
   "metadata": {},
   "source": [
    "I don't seem to have enough memory for `Cliente_ID`, so I had to run it from a raw python script, which I called `Cliente_ID_stats.py`. The results are saved in `Cliente_ID_Stats.pkl`."
   ]
  }
 ],
 "metadata": {
  "kernelspec": {
   "display_name": "Python 2",
   "language": "python",
   "name": "python2"
  },
  "language_info": {
   "codemirror_mode": {
    "name": "ipython",
    "version": 2
   },
   "file_extension": ".py",
   "mimetype": "text/x-python",
   "name": "python",
   "nbconvert_exporter": "python",
   "pygments_lexer": "ipython2",
   "version": "2.7.6"
  }
 },
 "nbformat": 4,
 "nbformat_minor": 0
}
